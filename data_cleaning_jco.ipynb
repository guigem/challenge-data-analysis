{
 "cells": [
  {
   "cell_type": "code",
   "execution_count": 1,
   "metadata": {},
   "outputs": [],
   "source": [
    "import numpy as np\n",
    "import pandas as pd"
   ]
  },
  {
   "cell_type": "code",
   "execution_count": 2,
   "metadata": {},
   "outputs": [],
   "source": [
    "filename = './data/immoweb_scrapped.csv'"
   ]
  },
  {
   "cell_type": "code",
   "execution_count": 3,
   "metadata": {},
   "outputs": [
    {
     "data": {
      "text/html": [
       "<div>\n",
       "<style scoped>\n",
       "    .dataframe tbody tr th:only-of-type {\n",
       "        vertical-align: middle;\n",
       "    }\n",
       "\n",
       "    .dataframe tbody tr th {\n",
       "        vertical-align: top;\n",
       "    }\n",
       "\n",
       "    .dataframe thead th {\n",
       "        text-align: right;\n",
       "    }\n",
       "</style>\n",
       "<table border=\"1\" class=\"dataframe\">\n",
       "  <thead>\n",
       "    <tr style=\"text-align: right;\">\n",
       "      <th></th>\n",
       "      <th>id</th>\n",
       "      <th>locality</th>\n",
       "      <th>type_of_property</th>\n",
       "      <th>subtype_of_property</th>\n",
       "      <th>price</th>\n",
       "      <th>type_of_sale</th>\n",
       "      <th>nr_of_rooms</th>\n",
       "      <th>area</th>\n",
       "      <th>equiped_kitchen</th>\n",
       "      <th>furnished</th>\n",
       "      <th>open_fire</th>\n",
       "      <th>terrace</th>\n",
       "      <th>terrace_area</th>\n",
       "      <th>garden</th>\n",
       "      <th>garden_area</th>\n",
       "      <th>total_land_area</th>\n",
       "      <th>nr_of_facades</th>\n",
       "      <th>swimming_pool</th>\n",
       "      <th>building_condition</th>\n",
       "    </tr>\n",
       "  </thead>\n",
       "  <tbody>\n",
       "    <tr>\n",
       "      <th>0</th>\n",
       "      <td>9044081</td>\n",
       "      <td>1083</td>\n",
       "      <td>APARTMENT</td>\n",
       "      <td>APARTMENT</td>\n",
       "      <td>265000.0</td>\n",
       "      <td>FOR_SALE</td>\n",
       "      <td>4.0</td>\n",
       "      <td>90.0</td>\n",
       "      <td>INSTALLED</td>\n",
       "      <td>False</td>\n",
       "      <td>False</td>\n",
       "      <td>True</td>\n",
       "      <td>13.0</td>\n",
       "      <td>NaN</td>\n",
       "      <td>NaN</td>\n",
       "      <td>NaN</td>\n",
       "      <td>4.0</td>\n",
       "      <td>NaN</td>\n",
       "      <td>AS_NEW</td>\n",
       "    </tr>\n",
       "    <tr>\n",
       "      <th>1</th>\n",
       "      <td>9043978</td>\n",
       "      <td>1000</td>\n",
       "      <td>APARTMENT</td>\n",
       "      <td>APARTMENT</td>\n",
       "      <td>1795000.0</td>\n",
       "      <td>FOR_SALE</td>\n",
       "      <td>4.0</td>\n",
       "      <td>650.0</td>\n",
       "      <td>USA_HYPER_EQUIPPED</td>\n",
       "      <td>False</td>\n",
       "      <td>True</td>\n",
       "      <td>True</td>\n",
       "      <td>400.0</td>\n",
       "      <td>NaN</td>\n",
       "      <td>NaN</td>\n",
       "      <td>NaN</td>\n",
       "      <td>3.0</td>\n",
       "      <td>NaN</td>\n",
       "      <td>AS_NEW</td>\n",
       "    </tr>\n",
       "    <tr>\n",
       "      <th>2</th>\n",
       "      <td>9044188</td>\n",
       "      <td>1050</td>\n",
       "      <td>HOUSE</td>\n",
       "      <td>MANSION</td>\n",
       "      <td>3800000.0</td>\n",
       "      <td>FOR_SALE</td>\n",
       "      <td>5.0</td>\n",
       "      <td>752.0</td>\n",
       "      <td>HYPER_EQUIPPED</td>\n",
       "      <td>False</td>\n",
       "      <td>False</td>\n",
       "      <td>True</td>\n",
       "      <td>40.0</td>\n",
       "      <td>True</td>\n",
       "      <td>NaN</td>\n",
       "      <td>340.0</td>\n",
       "      <td>2.0</td>\n",
       "      <td>NaN</td>\n",
       "      <td>JUST_RENOVATED</td>\n",
       "    </tr>\n",
       "    <tr>\n",
       "      <th>3</th>\n",
       "      <td>9041095</td>\n",
       "      <td>4860</td>\n",
       "      <td>HOUSE</td>\n",
       "      <td>HOUSE</td>\n",
       "      <td>320000.0</td>\n",
       "      <td>FOR_SALE</td>\n",
       "      <td>5.0</td>\n",
       "      <td>231.0</td>\n",
       "      <td>NOT_INSTALLED</td>\n",
       "      <td>False</td>\n",
       "      <td>False</td>\n",
       "      <td>True</td>\n",
       "      <td>30.0</td>\n",
       "      <td>True</td>\n",
       "      <td>1200.0</td>\n",
       "      <td>1421.0</td>\n",
       "      <td>3.0</td>\n",
       "      <td>False</td>\n",
       "      <td>AS_NEW</td>\n",
       "    </tr>\n",
       "    <tr>\n",
       "      <th>4</th>\n",
       "      <td>9042175</td>\n",
       "      <td>1160</td>\n",
       "      <td>APARTMENT_GROUP</td>\n",
       "      <td>APARTMENT_GROUP</td>\n",
       "      <td>NaN</td>\n",
       "      <td>FOR_SALE</td>\n",
       "      <td>NaN</td>\n",
       "      <td>NaN</td>\n",
       "      <td>NaN</td>\n",
       "      <td>NaN</td>\n",
       "      <td>False</td>\n",
       "      <td>NaN</td>\n",
       "      <td>NaN</td>\n",
       "      <td>NaN</td>\n",
       "      <td>NaN</td>\n",
       "      <td>NaN</td>\n",
       "      <td>NaN</td>\n",
       "      <td>NaN</td>\n",
       "      <td>NaN</td>\n",
       "    </tr>\n",
       "  </tbody>\n",
       "</table>\n",
       "</div>"
      ],
      "text/plain": [
       "        id  locality type_of_property subtype_of_property      price  \\\n",
       "0  9044081      1083        APARTMENT           APARTMENT   265000.0   \n",
       "1  9043978      1000        APARTMENT           APARTMENT  1795000.0   \n",
       "2  9044188      1050            HOUSE             MANSION  3800000.0   \n",
       "3  9041095      4860            HOUSE               HOUSE   320000.0   \n",
       "4  9042175      1160  APARTMENT_GROUP     APARTMENT_GROUP        NaN   \n",
       "\n",
       "  type_of_sale  nr_of_rooms   area     equiped_kitchen furnished  open_fire  \\\n",
       "0     FOR_SALE          4.0   90.0           INSTALLED     False      False   \n",
       "1     FOR_SALE          4.0  650.0  USA_HYPER_EQUIPPED     False       True   \n",
       "2     FOR_SALE          5.0  752.0      HYPER_EQUIPPED     False      False   \n",
       "3     FOR_SALE          5.0  231.0       NOT_INSTALLED     False      False   \n",
       "4     FOR_SALE          NaN    NaN                 NaN       NaN      False   \n",
       "\n",
       "  terrace  terrace_area garden  garden_area  total_land_area  nr_of_facades  \\\n",
       "0    True          13.0    NaN          NaN              NaN            4.0   \n",
       "1    True         400.0    NaN          NaN              NaN            3.0   \n",
       "2    True          40.0   True          NaN            340.0            2.0   \n",
       "3    True          30.0   True       1200.0           1421.0            3.0   \n",
       "4     NaN           NaN    NaN          NaN              NaN            NaN   \n",
       "\n",
       "  swimming_pool building_condition  \n",
       "0           NaN             AS_NEW  \n",
       "1           NaN             AS_NEW  \n",
       "2           NaN     JUST_RENOVATED  \n",
       "3         False             AS_NEW  \n",
       "4           NaN                NaN  "
      ]
     },
     "execution_count": 3,
     "metadata": {},
     "output_type": "execute_result"
    }
   ],
   "source": [
    "data = pd.read_csv(filename)\n",
    "data.head()"
   ]
  },
  {
   "cell_type": "code",
   "execution_count": 4,
   "metadata": {},
   "outputs": [
    {
     "name": "stdout",
     "output_type": "stream",
     "text": [
      "<class 'pandas.core.frame.DataFrame'>\n",
      "RangeIndex: 10006 entries, 0 to 10005\n",
      "Data columns (total 19 columns):\n",
      " #   Column               Non-Null Count  Dtype  \n",
      "---  ------               --------------  -----  \n",
      " 0   id                   10006 non-null  int64  \n",
      " 1   locality             10006 non-null  int64  \n",
      " 2   type_of_property     10006 non-null  object \n",
      " 3   subtype_of_property  10006 non-null  object \n",
      " 4   price                9054 non-null   float64\n",
      " 5   type_of_sale         10006 non-null  object \n",
      " 6   nr_of_rooms          9119 non-null   float64\n",
      " 7   area                 8817 non-null   float64\n",
      " 8   equiped_kitchen      7819 non-null   object \n",
      " 9   furnished            5535 non-null   object \n",
      " 10  open_fire            10006 non-null  bool   \n",
      " 11  terrace              6421 non-null   object \n",
      " 12  terrace_area         4373 non-null   float64\n",
      " 13  garden               3029 non-null   object \n",
      " 14  garden_area          2097 non-null   float64\n",
      " 15  total_land_area      4576 non-null   float64\n",
      " 16  nr_of_facades        7024 non-null   float64\n",
      " 17  swimming_pool        4248 non-null   object \n",
      " 18  building_condition   7924 non-null   object \n",
      "dtypes: bool(1), float64(7), int64(2), object(9)\n",
      "memory usage: 1.4+ MB\n"
     ]
    }
   ],
   "source": [
    "data.info()"
   ]
  },
  {
   "cell_type": "code",
   "execution_count": 5,
   "metadata": {},
   "outputs": [],
   "source": [
    "data['terrace'] = data['terrace'].fillna(False)"
   ]
  },
  {
   "cell_type": "code",
   "execution_count": 6,
   "metadata": {},
   "outputs": [
    {
     "name": "stdout",
     "output_type": "stream",
     "text": [
      "<class 'pandas.core.frame.DataFrame'>\n",
      "RangeIndex: 10006 entries, 0 to 10005\n",
      "Data columns (total 19 columns):\n",
      " #   Column               Non-Null Count  Dtype  \n",
      "---  ------               --------------  -----  \n",
      " 0   id                   10006 non-null  int64  \n",
      " 1   locality             10006 non-null  int64  \n",
      " 2   type_of_property     10006 non-null  object \n",
      " 3   subtype_of_property  10006 non-null  object \n",
      " 4   price                9054 non-null   float64\n",
      " 5   type_of_sale         10006 non-null  object \n",
      " 6   nr_of_rooms          9119 non-null   float64\n",
      " 7   area                 8817 non-null   float64\n",
      " 8   equiped_kitchen      7819 non-null   object \n",
      " 9   furnished            5535 non-null   object \n",
      " 10  open_fire            10006 non-null  bool   \n",
      " 11  terrace              10006 non-null  bool   \n",
      " 12  terrace_area         4373 non-null   float64\n",
      " 13  garden               3029 non-null   object \n",
      " 14  garden_area          2097 non-null   float64\n",
      " 15  total_land_area      4576 non-null   float64\n",
      " 16  nr_of_facades        7024 non-null   float64\n",
      " 17  swimming_pool        4248 non-null   object \n",
      " 18  building_condition   7924 non-null   object \n",
      "dtypes: bool(2), float64(7), int64(2), object(8)\n",
      "memory usage: 1.3+ MB\n"
     ]
    }
   ],
   "source": [
    "data.info()"
   ]
  },
  {
   "cell_type": "code",
   "execution_count": 7,
   "metadata": {},
   "outputs": [],
   "source": [
    "data['terrace_area'] = data['terrace_area'].fillna(-1)"
   ]
  },
  {
   "cell_type": "code",
   "execution_count": 8,
   "metadata": {},
   "outputs": [
    {
     "name": "stdout",
     "output_type": "stream",
     "text": [
      "<class 'pandas.core.frame.DataFrame'>\n",
      "RangeIndex: 10006 entries, 0 to 10005\n",
      "Data columns (total 19 columns):\n",
      " #   Column               Non-Null Count  Dtype  \n",
      "---  ------               --------------  -----  \n",
      " 0   id                   10006 non-null  int64  \n",
      " 1   locality             10006 non-null  int64  \n",
      " 2   type_of_property     10006 non-null  object \n",
      " 3   subtype_of_property  10006 non-null  object \n",
      " 4   price                9054 non-null   float64\n",
      " 5   type_of_sale         10006 non-null  object \n",
      " 6   nr_of_rooms          9119 non-null   float64\n",
      " 7   area                 8817 non-null   float64\n",
      " 8   equiped_kitchen      7819 non-null   object \n",
      " 9   furnished            5535 non-null   object \n",
      " 10  open_fire            10006 non-null  bool   \n",
      " 11  terrace              10006 non-null  bool   \n",
      " 12  terrace_area         10006 non-null  float64\n",
      " 13  garden               3029 non-null   object \n",
      " 14  garden_area          2097 non-null   float64\n",
      " 15  total_land_area      4576 non-null   float64\n",
      " 16  nr_of_facades        7024 non-null   float64\n",
      " 17  swimming_pool        4248 non-null   object \n",
      " 18  building_condition   7924 non-null   object \n",
      "dtypes: bool(2), float64(7), int64(2), object(8)\n",
      "memory usage: 1.3+ MB\n"
     ]
    }
   ],
   "source": [
    "data.info()"
   ]
  },
  {
   "cell_type": "code",
   "execution_count": 9,
   "metadata": {},
   "outputs": [
    {
     "data": {
      "text/plain": [
       "6977"
      ]
     },
     "execution_count": 9,
     "metadata": {},
     "output_type": "execute_result"
    }
   ],
   "source": [
    "# Search property where has garden = NAN\n",
    "# Using the fact that: np.nan != np.nan\n",
    "data[data[\"garden\"]!=data[\"garden\"]].shape[0]"
   ]
  },
  {
   "cell_type": "code",
   "execution_count": 10,
   "metadata": {},
   "outputs": [],
   "source": [
    "# Function that will replace the NaN garden value \n",
    "# by a boolean (True/False)\n",
    "# True if total_land_area > (area + terrace_area)\n",
    "# otherwise False\n",
    "def garden_nan_to_bool_value(x):\n",
    "    # Only if value is NaN\n",
    "    if x[\"garden\"] != x[\"garden\"]:\n",
    "        if x[\"total_land_area\"] > x[\"area\"] + x[\"terrace_area\"]:\n",
    "            return True\n",
    "        else:\n",
    "            return False\n",
    "    return x[\"garden\"]\n",
    "            "
   ]
  },
  {
   "cell_type": "code",
   "execution_count": 11,
   "metadata": {},
   "outputs": [],
   "source": [
    "data[\"garden\"] = data.apply(garden_nan_to_bool_value, axis=1)"
   ]
  },
  {
   "cell_type": "code",
   "execution_count": 12,
   "metadata": {},
   "outputs": [
    {
     "data": {
      "text/plain": [
       "0"
      ]
     },
     "execution_count": 12,
     "metadata": {},
     "output_type": "execute_result"
    }
   ],
   "source": [
    "# Search property where has garden = NAN\n",
    "# Using the fact that: np.nan != np.nan\n",
    "data[data[\"garden\"]!=data[\"garden\"]].shape[0]"
   ]
  },
  {
   "cell_type": "code",
   "execution_count": 13,
   "metadata": {},
   "outputs": [
    {
     "data": {
      "text/plain": [
       "2111"
      ]
     },
     "execution_count": 13,
     "metadata": {},
     "output_type": "execute_result"
    }
   ],
   "source": [
    "# Search property where has garden_area = NAN\n",
    "# Using the fact that: np.nan != np.nan\n",
    "data[(data[\"garden\"]==True) & (data[\"garden_area\"]!=data[\"garden_area\"])].shape[0]"
   ]
  },
  {
   "cell_type": "code",
   "execution_count": 14,
   "metadata": {},
   "outputs": [],
   "source": [
    "# Function that will replace the NaN garden_are value \n",
    "# by a int\n",
    "# if total_land_area > (area + terrace_area)\n",
    "# otherwise 0\n",
    "def garden_area_nan_to_value(x):\n",
    "    # Only if value is NaN\n",
    "    if x[\"garden_area\"] != x[\"garden_area\"]:\n",
    "        if x[\"total_land_area\"] > x[\"area\"] + x[\"terrace_area\"]:\n",
    "            return x[\"total_land_area\"] - x[\"area\"] - x[\"terrace_area\"]\n",
    "        else:\n",
    "            return 0\n",
    "    return x[\"garden_area\"]"
   ]
  },
  {
   "cell_type": "code",
   "execution_count": 15,
   "metadata": {},
   "outputs": [],
   "source": [
    "data[\"garden_area\"] = data.apply(garden_area_nan_to_value, axis=1)"
   ]
  },
  {
   "cell_type": "code",
   "execution_count": 16,
   "metadata": {},
   "outputs": [
    {
     "data": {
      "text/plain": [
       "0"
      ]
     },
     "execution_count": 16,
     "metadata": {},
     "output_type": "execute_result"
    }
   ],
   "source": [
    "# Search property where has garden_area = NAN\n",
    "# Using the fact that: np.nan != np.nan\n",
    "data[(data[\"garden\"]==True) & (data[\"garden_area\"]!=data[\"garden_area\"])].shape[0]"
   ]
  },
  {
   "cell_type": "code",
   "execution_count": 20,
   "metadata": {},
   "outputs": [],
   "source": [
    "# Function that will determine the Region\n",
    "# based on the Locality ZipCode\n",
    "# \n",
    "#1000–1299 -> BXL-Capitale\n",
    "#1300–1499 -> P Brabrant Wallon -> Wallonie\n",
    "#1500–1999 -> P Brabant Flamand -> Flandre\n",
    "#2000–2999 -> P Anvers -> Flandre\n",
    "#3000–3499 -> P Brabant Flamand -> Flandre\n",
    "#3500–3999 -> P Limbourg -> Flandre\n",
    "#4000–4999 -> P Liège -> Wallonie\n",
    "#5000–5999 -> P Namur -> Wallonie\n",
    "#6000–6599 -> P Hainaut -> Wallonie\n",
    "#6600–6999 -> P Luxembourg -> Wallonie\n",
    "#7000–7999 -> P Hainaut -> Wallonie\n",
    "#8000–8999 -> P Fl Occidentale -> Flandre\n",
    "#9000–9999 -> P Fl Orientale -> Flandre\n",
    "def get_region_on_zip_code(x):\n",
    "    # Only if value is NaN\n",
    "    if (x >= 1000 and x <= 1299):\n",
    "        return \"BXL\"\n",
    "    elif (x >= 1300 and x <= 1499) or (x >= 4000 and x <= 7999):\n",
    "        return \"WAL\"\n",
    "    else:\n",
    "        return \"VLA\""
   ]
  },
  {
   "cell_type": "code",
   "execution_count": 22,
   "metadata": {},
   "outputs": [],
   "source": [
    "data[\"region\"] = data.locality.apply(get_region_on_zip_code)"
   ]
  },
  {
   "cell_type": "code",
   "execution_count": 23,
   "metadata": {},
   "outputs": [
    {
     "data": {
      "text/html": [
       "<div>\n",
       "<style scoped>\n",
       "    .dataframe tbody tr th:only-of-type {\n",
       "        vertical-align: middle;\n",
       "    }\n",
       "\n",
       "    .dataframe tbody tr th {\n",
       "        vertical-align: top;\n",
       "    }\n",
       "\n",
       "    .dataframe thead th {\n",
       "        text-align: right;\n",
       "    }\n",
       "</style>\n",
       "<table border=\"1\" class=\"dataframe\">\n",
       "  <thead>\n",
       "    <tr style=\"text-align: right;\">\n",
       "      <th></th>\n",
       "      <th>id</th>\n",
       "      <th>locality</th>\n",
       "      <th>type_of_property</th>\n",
       "      <th>subtype_of_property</th>\n",
       "      <th>price</th>\n",
       "      <th>type_of_sale</th>\n",
       "      <th>nr_of_rooms</th>\n",
       "      <th>area</th>\n",
       "      <th>equiped_kitchen</th>\n",
       "      <th>furnished</th>\n",
       "      <th>open_fire</th>\n",
       "      <th>terrace</th>\n",
       "      <th>terrace_area</th>\n",
       "      <th>garden</th>\n",
       "      <th>garden_area</th>\n",
       "      <th>total_land_area</th>\n",
       "      <th>nr_of_facades</th>\n",
       "      <th>swimming_pool</th>\n",
       "      <th>building_condition</th>\n",
       "      <th>region</th>\n",
       "    </tr>\n",
       "  </thead>\n",
       "  <tbody>\n",
       "    <tr>\n",
       "      <th>0</th>\n",
       "      <td>9044081</td>\n",
       "      <td>1083</td>\n",
       "      <td>APARTMENT</td>\n",
       "      <td>APARTMENT</td>\n",
       "      <td>265000.0</td>\n",
       "      <td>FOR_SALE</td>\n",
       "      <td>4.0</td>\n",
       "      <td>90.0</td>\n",
       "      <td>INSTALLED</td>\n",
       "      <td>False</td>\n",
       "      <td>False</td>\n",
       "      <td>True</td>\n",
       "      <td>13.0</td>\n",
       "      <td>False</td>\n",
       "      <td>0.0</td>\n",
       "      <td>NaN</td>\n",
       "      <td>4.0</td>\n",
       "      <td>NaN</td>\n",
       "      <td>AS_NEW</td>\n",
       "      <td>BXL</td>\n",
       "    </tr>\n",
       "    <tr>\n",
       "      <th>1</th>\n",
       "      <td>9043978</td>\n",
       "      <td>1000</td>\n",
       "      <td>APARTMENT</td>\n",
       "      <td>APARTMENT</td>\n",
       "      <td>1795000.0</td>\n",
       "      <td>FOR_SALE</td>\n",
       "      <td>4.0</td>\n",
       "      <td>650.0</td>\n",
       "      <td>USA_HYPER_EQUIPPED</td>\n",
       "      <td>False</td>\n",
       "      <td>True</td>\n",
       "      <td>True</td>\n",
       "      <td>400.0</td>\n",
       "      <td>False</td>\n",
       "      <td>0.0</td>\n",
       "      <td>NaN</td>\n",
       "      <td>3.0</td>\n",
       "      <td>NaN</td>\n",
       "      <td>AS_NEW</td>\n",
       "      <td>BXL</td>\n",
       "    </tr>\n",
       "    <tr>\n",
       "      <th>2</th>\n",
       "      <td>9044188</td>\n",
       "      <td>1050</td>\n",
       "      <td>HOUSE</td>\n",
       "      <td>MANSION</td>\n",
       "      <td>3800000.0</td>\n",
       "      <td>FOR_SALE</td>\n",
       "      <td>5.0</td>\n",
       "      <td>752.0</td>\n",
       "      <td>HYPER_EQUIPPED</td>\n",
       "      <td>False</td>\n",
       "      <td>False</td>\n",
       "      <td>True</td>\n",
       "      <td>40.0</td>\n",
       "      <td>True</td>\n",
       "      <td>0.0</td>\n",
       "      <td>340.0</td>\n",
       "      <td>2.0</td>\n",
       "      <td>NaN</td>\n",
       "      <td>JUST_RENOVATED</td>\n",
       "      <td>BXL</td>\n",
       "    </tr>\n",
       "    <tr>\n",
       "      <th>3</th>\n",
       "      <td>9041095</td>\n",
       "      <td>4860</td>\n",
       "      <td>HOUSE</td>\n",
       "      <td>HOUSE</td>\n",
       "      <td>320000.0</td>\n",
       "      <td>FOR_SALE</td>\n",
       "      <td>5.0</td>\n",
       "      <td>231.0</td>\n",
       "      <td>NOT_INSTALLED</td>\n",
       "      <td>False</td>\n",
       "      <td>False</td>\n",
       "      <td>True</td>\n",
       "      <td>30.0</td>\n",
       "      <td>True</td>\n",
       "      <td>1200.0</td>\n",
       "      <td>1421.0</td>\n",
       "      <td>3.0</td>\n",
       "      <td>False</td>\n",
       "      <td>AS_NEW</td>\n",
       "      <td>WAL</td>\n",
       "    </tr>\n",
       "    <tr>\n",
       "      <th>4</th>\n",
       "      <td>9042175</td>\n",
       "      <td>1160</td>\n",
       "      <td>APARTMENT_GROUP</td>\n",
       "      <td>APARTMENT_GROUP</td>\n",
       "      <td>NaN</td>\n",
       "      <td>FOR_SALE</td>\n",
       "      <td>NaN</td>\n",
       "      <td>NaN</td>\n",
       "      <td>NaN</td>\n",
       "      <td>NaN</td>\n",
       "      <td>False</td>\n",
       "      <td>False</td>\n",
       "      <td>-1.0</td>\n",
       "      <td>False</td>\n",
       "      <td>0.0</td>\n",
       "      <td>NaN</td>\n",
       "      <td>NaN</td>\n",
       "      <td>NaN</td>\n",
       "      <td>NaN</td>\n",
       "      <td>BXL</td>\n",
       "    </tr>\n",
       "  </tbody>\n",
       "</table>\n",
       "</div>"
      ],
      "text/plain": [
       "        id  locality type_of_property subtype_of_property      price  \\\n",
       "0  9044081      1083        APARTMENT           APARTMENT   265000.0   \n",
       "1  9043978      1000        APARTMENT           APARTMENT  1795000.0   \n",
       "2  9044188      1050            HOUSE             MANSION  3800000.0   \n",
       "3  9041095      4860            HOUSE               HOUSE   320000.0   \n",
       "4  9042175      1160  APARTMENT_GROUP     APARTMENT_GROUP        NaN   \n",
       "\n",
       "  type_of_sale  nr_of_rooms   area     equiped_kitchen furnished  open_fire  \\\n",
       "0     FOR_SALE          4.0   90.0           INSTALLED     False      False   \n",
       "1     FOR_SALE          4.0  650.0  USA_HYPER_EQUIPPED     False       True   \n",
       "2     FOR_SALE          5.0  752.0      HYPER_EQUIPPED     False      False   \n",
       "3     FOR_SALE          5.0  231.0       NOT_INSTALLED     False      False   \n",
       "4     FOR_SALE          NaN    NaN                 NaN       NaN      False   \n",
       "\n",
       "   terrace  terrace_area  garden  garden_area  total_land_area  nr_of_facades  \\\n",
       "0     True          13.0   False          0.0              NaN            4.0   \n",
       "1     True         400.0   False          0.0              NaN            3.0   \n",
       "2     True          40.0    True          0.0            340.0            2.0   \n",
       "3     True          30.0    True       1200.0           1421.0            3.0   \n",
       "4    False          -1.0   False          0.0              NaN            NaN   \n",
       "\n",
       "  swimming_pool building_condition region  \n",
       "0           NaN             AS_NEW    BXL  \n",
       "1           NaN             AS_NEW    BXL  \n",
       "2           NaN     JUST_RENOVATED    BXL  \n",
       "3         False             AS_NEW    WAL  \n",
       "4           NaN                NaN    BXL  "
      ]
     },
     "execution_count": 23,
     "metadata": {},
     "output_type": "execute_result"
    }
   ],
   "source": [
    "data.head()"
   ]
  }
 ],
 "metadata": {
  "kernelspec": {
   "display_name": "Python 3",
   "language": "python",
   "name": "python3"
  },
  "language_info": {
   "codemirror_mode": {
    "name": "ipython",
    "version": 3
   },
   "file_extension": ".py",
   "mimetype": "text/x-python",
   "name": "python",
   "nbconvert_exporter": "python",
   "pygments_lexer": "ipython3",
   "version": "3.8.3"
  }
 },
 "nbformat": 4,
 "nbformat_minor": 4
}
