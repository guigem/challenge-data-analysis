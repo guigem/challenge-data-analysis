{
 "cells": [
  {
   "cell_type": "code",
   "execution_count": 144,
   "metadata": {},
   "outputs": [],
   "source": [
    "#importing necessary libraries\n",
    "import pandas as pd\n",
    "import numpy as np\n",
    "import csv"
   ]
  },
  {
   "cell_type": "code",
   "execution_count": 145,
   "metadata": {},
   "outputs": [
    {
     "output_type": "execute_result",
     "data": {
      "text/plain": [
       "         id  locality type_of_property   subtype_of_property      price  \\\n",
       "0   9044081      1083        APARTMENT             APARTMENT   265000.0   \n",
       "1   9043978      1000        APARTMENT             APARTMENT  1795000.0   \n",
       "2   9044188      1050            HOUSE               MANSION  3800000.0   \n",
       "3   9041095      4860            HOUSE                 HOUSE   320000.0   \n",
       "4   9042175      1160  APARTMENT_GROUP       APARTMENT_GROUP        NaN   \n",
       "5   9041098      6001  APARTMENT_GROUP       APARTMENT_GROUP        NaN   \n",
       "6   9043036      9600        APARTMENT             APARTMENT   195000.0   \n",
       "7   9042950      6010        APARTMENT               TRIPLEX   235000.0   \n",
       "8   9042073      1070        APARTMENT             APARTMENT   320000.0   \n",
       "9   9042267      7181            HOUSE                 VILLA   325000.0   \n",
       "10  9042129      1000  APARTMENT_GROUP       APARTMENT_GROUP        NaN   \n",
       "11  9042511      5340            HOUSE                 VILLA   569000.0   \n",
       "12  9034494      1950        APARTMENT             APARTMENT   715000.0   \n",
       "13  9039019      1050        APARTMENT             APARTMENT  1550000.0   \n",
       "14  9040949      3271            HOUSE                 HOUSE   230000.0   \n",
       "15  8997289      1180        APARTMENT           FLAT_STUDIO   224500.0   \n",
       "16  8949028      4870            HOUSE  EXCEPTIONAL_PROPERTY   349000.0   \n",
       "17  9039312      9000        APARTMENT             APARTMENT   358000.0   \n",
       "18  9039311      2060        APARTMENT                  LOFT   360500.0   \n",
       "19  9039245      1330            HOUSE                 HOUSE   585000.0   \n",
       "\n",
       "   type_of_sale  nr_of_rooms   area     equiped_kitchen furnished  open_fire  \\\n",
       "0      FOR_SALE          4.0   90.0           INSTALLED     False      False   \n",
       "1      FOR_SALE          4.0  650.0  USA_HYPER_EQUIPPED     False       True   \n",
       "2      FOR_SALE          5.0  752.0      HYPER_EQUIPPED     False      False   \n",
       "3      FOR_SALE          5.0  231.0       NOT_INSTALLED     False      False   \n",
       "4      FOR_SALE          NaN    NaN                 NaN       NaN      False   \n",
       "5      FOR_SALE          NaN    NaN                 NaN       NaN      False   \n",
       "6      FOR_SALE          2.0   75.0           INSTALLED       NaN      False   \n",
       "7      FOR_SALE          3.0  149.0      HYPER_EQUIPPED     False      False   \n",
       "8      FOR_SALE          3.0  130.0  USA_HYPER_EQUIPPED     False      False   \n",
       "9      FOR_SALE          2.0  130.0           INSTALLED     False      False   \n",
       "10     FOR_SALE          NaN    NaN                 NaN       NaN      False   \n",
       "11     FOR_SALE          6.0  324.0           INSTALLED       NaN      False   \n",
       "12     FOR_SALE          2.0  126.0  USA_HYPER_EQUIPPED     False      False   \n",
       "13     FOR_SALE          3.0  213.0  USA_HYPER_EQUIPPED     False      False   \n",
       "14     FOR_SALE          4.0  226.0           INSTALLED       NaN      False   \n",
       "15     FOR_SALE          1.0   52.0      HYPER_EQUIPPED     False       True   \n",
       "16     FOR_SALE          5.0  350.0      HYPER_EQUIPPED       NaN       True   \n",
       "17     FOR_SALE          2.0   85.0           INSTALLED       NaN      False   \n",
       "18     FOR_SALE          2.0  114.0           INSTALLED       NaN      False   \n",
       "19     FOR_SALE          5.0  187.0       SEMI_EQUIPPED     False      False   \n",
       "\n",
       "   terrace  terrace_area garden  garden_area  total_land_area  nr_of_facades  \\\n",
       "0     True          13.0    NaN          NaN              NaN            4.0   \n",
       "1     True         400.0    NaN          NaN              NaN            3.0   \n",
       "2     True          40.0   True          NaN            340.0            2.0   \n",
       "3     True          30.0   True       1200.0           1421.0            3.0   \n",
       "4      NaN           NaN    NaN          NaN              NaN            NaN   \n",
       "5      NaN           NaN    NaN          NaN              NaN            NaN   \n",
       "6      NaN           NaN    NaN          NaN              NaN            2.0   \n",
       "7     True          15.0    NaN          NaN              NaN            2.0   \n",
       "8     True          14.0    NaN          NaN              NaN            2.0   \n",
       "9     True          30.0   True        600.0           1043.0            4.0   \n",
       "10     NaN           NaN    NaN          NaN              NaN            NaN   \n",
       "11    True          57.0   True          NaN           2202.0            4.0   \n",
       "12    True           6.0    NaN          NaN              NaN            2.0   \n",
       "13    True          39.0    NaN          NaN              NaN            NaN   \n",
       "14    True          25.0   True        150.0            398.0            3.0   \n",
       "15    True           1.0    NaN          NaN              NaN            2.0   \n",
       "16    True          40.0   True        450.0            700.0            3.0   \n",
       "17    True           1.0    NaN          NaN              NaN            2.0   \n",
       "18    True          25.0    NaN          NaN              NaN            2.0   \n",
       "19    True          74.0    NaN          NaN            483.0            3.0   \n",
       "\n",
       "   swimming_pool building_condition  \n",
       "0            NaN             AS_NEW  \n",
       "1            NaN             AS_NEW  \n",
       "2            NaN     JUST_RENOVATED  \n",
       "3          False             AS_NEW  \n",
       "4            NaN                NaN  \n",
       "5            NaN                NaN  \n",
       "6            NaN               GOOD  \n",
       "7          False             AS_NEW  \n",
       "8            NaN             AS_NEW  \n",
       "9          False      TO_BE_DONE_UP  \n",
       "10           NaN                NaN  \n",
       "11           NaN     JUST_RENOVATED  \n",
       "12         False             AS_NEW  \n",
       "13         False             AS_NEW  \n",
       "14           NaN        TO_RENOVATE  \n",
       "15           NaN               GOOD  \n",
       "16           NaN               GOOD  \n",
       "17           NaN               GOOD  \n",
       "18           NaN               GOOD  \n",
       "19         False               GOOD  "
      ],
      "text/html": "<div>\n<style scoped>\n    .dataframe tbody tr th:only-of-type {\n        vertical-align: middle;\n    }\n\n    .dataframe tbody tr th {\n        vertical-align: top;\n    }\n\n    .dataframe thead th {\n        text-align: right;\n    }\n</style>\n<table border=\"1\" class=\"dataframe\">\n  <thead>\n    <tr style=\"text-align: right;\">\n      <th></th>\n      <th>id</th>\n      <th>locality</th>\n      <th>type_of_property</th>\n      <th>subtype_of_property</th>\n      <th>price</th>\n      <th>type_of_sale</th>\n      <th>nr_of_rooms</th>\n      <th>area</th>\n      <th>equiped_kitchen</th>\n      <th>furnished</th>\n      <th>open_fire</th>\n      <th>terrace</th>\n      <th>terrace_area</th>\n      <th>garden</th>\n      <th>garden_area</th>\n      <th>total_land_area</th>\n      <th>nr_of_facades</th>\n      <th>swimming_pool</th>\n      <th>building_condition</th>\n    </tr>\n  </thead>\n  <tbody>\n    <tr>\n      <th>0</th>\n      <td>9044081</td>\n      <td>1083</td>\n      <td>APARTMENT</td>\n      <td>APARTMENT</td>\n      <td>265000.0</td>\n      <td>FOR_SALE</td>\n      <td>4.0</td>\n      <td>90.0</td>\n      <td>INSTALLED</td>\n      <td>False</td>\n      <td>False</td>\n      <td>True</td>\n      <td>13.0</td>\n      <td>NaN</td>\n      <td>NaN</td>\n      <td>NaN</td>\n      <td>4.0</td>\n      <td>NaN</td>\n      <td>AS_NEW</td>\n    </tr>\n    <tr>\n      <th>1</th>\n      <td>9043978</td>\n      <td>1000</td>\n      <td>APARTMENT</td>\n      <td>APARTMENT</td>\n      <td>1795000.0</td>\n      <td>FOR_SALE</td>\n      <td>4.0</td>\n      <td>650.0</td>\n      <td>USA_HYPER_EQUIPPED</td>\n      <td>False</td>\n      <td>True</td>\n      <td>True</td>\n      <td>400.0</td>\n      <td>NaN</td>\n      <td>NaN</td>\n      <td>NaN</td>\n      <td>3.0</td>\n      <td>NaN</td>\n      <td>AS_NEW</td>\n    </tr>\n    <tr>\n      <th>2</th>\n      <td>9044188</td>\n      <td>1050</td>\n      <td>HOUSE</td>\n      <td>MANSION</td>\n      <td>3800000.0</td>\n      <td>FOR_SALE</td>\n      <td>5.0</td>\n      <td>752.0</td>\n      <td>HYPER_EQUIPPED</td>\n      <td>False</td>\n      <td>False</td>\n      <td>True</td>\n      <td>40.0</td>\n      <td>True</td>\n      <td>NaN</td>\n      <td>340.0</td>\n      <td>2.0</td>\n      <td>NaN</td>\n      <td>JUST_RENOVATED</td>\n    </tr>\n    <tr>\n      <th>3</th>\n      <td>9041095</td>\n      <td>4860</td>\n      <td>HOUSE</td>\n      <td>HOUSE</td>\n      <td>320000.0</td>\n      <td>FOR_SALE</td>\n      <td>5.0</td>\n      <td>231.0</td>\n      <td>NOT_INSTALLED</td>\n      <td>False</td>\n      <td>False</td>\n      <td>True</td>\n      <td>30.0</td>\n      <td>True</td>\n      <td>1200.0</td>\n      <td>1421.0</td>\n      <td>3.0</td>\n      <td>False</td>\n      <td>AS_NEW</td>\n    </tr>\n    <tr>\n      <th>4</th>\n      <td>9042175</td>\n      <td>1160</td>\n      <td>APARTMENT_GROUP</td>\n      <td>APARTMENT_GROUP</td>\n      <td>NaN</td>\n      <td>FOR_SALE</td>\n      <td>NaN</td>\n      <td>NaN</td>\n      <td>NaN</td>\n      <td>NaN</td>\n      <td>False</td>\n      <td>NaN</td>\n      <td>NaN</td>\n      <td>NaN</td>\n      <td>NaN</td>\n      <td>NaN</td>\n      <td>NaN</td>\n      <td>NaN</td>\n      <td>NaN</td>\n    </tr>\n    <tr>\n      <th>5</th>\n      <td>9041098</td>\n      <td>6001</td>\n      <td>APARTMENT_GROUP</td>\n      <td>APARTMENT_GROUP</td>\n      <td>NaN</td>\n      <td>FOR_SALE</td>\n      <td>NaN</td>\n      <td>NaN</td>\n      <td>NaN</td>\n      <td>NaN</td>\n      <td>False</td>\n      <td>NaN</td>\n      <td>NaN</td>\n      <td>NaN</td>\n      <td>NaN</td>\n      <td>NaN</td>\n      <td>NaN</td>\n      <td>NaN</td>\n      <td>NaN</td>\n    </tr>\n    <tr>\n      <th>6</th>\n      <td>9043036</td>\n      <td>9600</td>\n      <td>APARTMENT</td>\n      <td>APARTMENT</td>\n      <td>195000.0</td>\n      <td>FOR_SALE</td>\n      <td>2.0</td>\n      <td>75.0</td>\n      <td>INSTALLED</td>\n      <td>NaN</td>\n      <td>False</td>\n      <td>NaN</td>\n      <td>NaN</td>\n      <td>NaN</td>\n      <td>NaN</td>\n      <td>NaN</td>\n      <td>2.0</td>\n      <td>NaN</td>\n      <td>GOOD</td>\n    </tr>\n    <tr>\n      <th>7</th>\n      <td>9042950</td>\n      <td>6010</td>\n      <td>APARTMENT</td>\n      <td>TRIPLEX</td>\n      <td>235000.0</td>\n      <td>FOR_SALE</td>\n      <td>3.0</td>\n      <td>149.0</td>\n      <td>HYPER_EQUIPPED</td>\n      <td>False</td>\n      <td>False</td>\n      <td>True</td>\n      <td>15.0</td>\n      <td>NaN</td>\n      <td>NaN</td>\n      <td>NaN</td>\n      <td>2.0</td>\n      <td>False</td>\n      <td>AS_NEW</td>\n    </tr>\n    <tr>\n      <th>8</th>\n      <td>9042073</td>\n      <td>1070</td>\n      <td>APARTMENT</td>\n      <td>APARTMENT</td>\n      <td>320000.0</td>\n      <td>FOR_SALE</td>\n      <td>3.0</td>\n      <td>130.0</td>\n      <td>USA_HYPER_EQUIPPED</td>\n      <td>False</td>\n      <td>False</td>\n      <td>True</td>\n      <td>14.0</td>\n      <td>NaN</td>\n      <td>NaN</td>\n      <td>NaN</td>\n      <td>2.0</td>\n      <td>NaN</td>\n      <td>AS_NEW</td>\n    </tr>\n    <tr>\n      <th>9</th>\n      <td>9042267</td>\n      <td>7181</td>\n      <td>HOUSE</td>\n      <td>VILLA</td>\n      <td>325000.0</td>\n      <td>FOR_SALE</td>\n      <td>2.0</td>\n      <td>130.0</td>\n      <td>INSTALLED</td>\n      <td>False</td>\n      <td>False</td>\n      <td>True</td>\n      <td>30.0</td>\n      <td>True</td>\n      <td>600.0</td>\n      <td>1043.0</td>\n      <td>4.0</td>\n      <td>False</td>\n      <td>TO_BE_DONE_UP</td>\n    </tr>\n    <tr>\n      <th>10</th>\n      <td>9042129</td>\n      <td>1000</td>\n      <td>APARTMENT_GROUP</td>\n      <td>APARTMENT_GROUP</td>\n      <td>NaN</td>\n      <td>FOR_SALE</td>\n      <td>NaN</td>\n      <td>NaN</td>\n      <td>NaN</td>\n      <td>NaN</td>\n      <td>False</td>\n      <td>NaN</td>\n      <td>NaN</td>\n      <td>NaN</td>\n      <td>NaN</td>\n      <td>NaN</td>\n      <td>NaN</td>\n      <td>NaN</td>\n      <td>NaN</td>\n    </tr>\n    <tr>\n      <th>11</th>\n      <td>9042511</td>\n      <td>5340</td>\n      <td>HOUSE</td>\n      <td>VILLA</td>\n      <td>569000.0</td>\n      <td>FOR_SALE</td>\n      <td>6.0</td>\n      <td>324.0</td>\n      <td>INSTALLED</td>\n      <td>NaN</td>\n      <td>False</td>\n      <td>True</td>\n      <td>57.0</td>\n      <td>True</td>\n      <td>NaN</td>\n      <td>2202.0</td>\n      <td>4.0</td>\n      <td>NaN</td>\n      <td>JUST_RENOVATED</td>\n    </tr>\n    <tr>\n      <th>12</th>\n      <td>9034494</td>\n      <td>1950</td>\n      <td>APARTMENT</td>\n      <td>APARTMENT</td>\n      <td>715000.0</td>\n      <td>FOR_SALE</td>\n      <td>2.0</td>\n      <td>126.0</td>\n      <td>USA_HYPER_EQUIPPED</td>\n      <td>False</td>\n      <td>False</td>\n      <td>True</td>\n      <td>6.0</td>\n      <td>NaN</td>\n      <td>NaN</td>\n      <td>NaN</td>\n      <td>2.0</td>\n      <td>False</td>\n      <td>AS_NEW</td>\n    </tr>\n    <tr>\n      <th>13</th>\n      <td>9039019</td>\n      <td>1050</td>\n      <td>APARTMENT</td>\n      <td>APARTMENT</td>\n      <td>1550000.0</td>\n      <td>FOR_SALE</td>\n      <td>3.0</td>\n      <td>213.0</td>\n      <td>USA_HYPER_EQUIPPED</td>\n      <td>False</td>\n      <td>False</td>\n      <td>True</td>\n      <td>39.0</td>\n      <td>NaN</td>\n      <td>NaN</td>\n      <td>NaN</td>\n      <td>NaN</td>\n      <td>False</td>\n      <td>AS_NEW</td>\n    </tr>\n    <tr>\n      <th>14</th>\n      <td>9040949</td>\n      <td>3271</td>\n      <td>HOUSE</td>\n      <td>HOUSE</td>\n      <td>230000.0</td>\n      <td>FOR_SALE</td>\n      <td>4.0</td>\n      <td>226.0</td>\n      <td>INSTALLED</td>\n      <td>NaN</td>\n      <td>False</td>\n      <td>True</td>\n      <td>25.0</td>\n      <td>True</td>\n      <td>150.0</td>\n      <td>398.0</td>\n      <td>3.0</td>\n      <td>NaN</td>\n      <td>TO_RENOVATE</td>\n    </tr>\n    <tr>\n      <th>15</th>\n      <td>8997289</td>\n      <td>1180</td>\n      <td>APARTMENT</td>\n      <td>FLAT_STUDIO</td>\n      <td>224500.0</td>\n      <td>FOR_SALE</td>\n      <td>1.0</td>\n      <td>52.0</td>\n      <td>HYPER_EQUIPPED</td>\n      <td>False</td>\n      <td>True</td>\n      <td>True</td>\n      <td>1.0</td>\n      <td>NaN</td>\n      <td>NaN</td>\n      <td>NaN</td>\n      <td>2.0</td>\n      <td>NaN</td>\n      <td>GOOD</td>\n    </tr>\n    <tr>\n      <th>16</th>\n      <td>8949028</td>\n      <td>4870</td>\n      <td>HOUSE</td>\n      <td>EXCEPTIONAL_PROPERTY</td>\n      <td>349000.0</td>\n      <td>FOR_SALE</td>\n      <td>5.0</td>\n      <td>350.0</td>\n      <td>HYPER_EQUIPPED</td>\n      <td>NaN</td>\n      <td>True</td>\n      <td>True</td>\n      <td>40.0</td>\n      <td>True</td>\n      <td>450.0</td>\n      <td>700.0</td>\n      <td>3.0</td>\n      <td>NaN</td>\n      <td>GOOD</td>\n    </tr>\n    <tr>\n      <th>17</th>\n      <td>9039312</td>\n      <td>9000</td>\n      <td>APARTMENT</td>\n      <td>APARTMENT</td>\n      <td>358000.0</td>\n      <td>FOR_SALE</td>\n      <td>2.0</td>\n      <td>85.0</td>\n      <td>INSTALLED</td>\n      <td>NaN</td>\n      <td>False</td>\n      <td>True</td>\n      <td>1.0</td>\n      <td>NaN</td>\n      <td>NaN</td>\n      <td>NaN</td>\n      <td>2.0</td>\n      <td>NaN</td>\n      <td>GOOD</td>\n    </tr>\n    <tr>\n      <th>18</th>\n      <td>9039311</td>\n      <td>2060</td>\n      <td>APARTMENT</td>\n      <td>LOFT</td>\n      <td>360500.0</td>\n      <td>FOR_SALE</td>\n      <td>2.0</td>\n      <td>114.0</td>\n      <td>INSTALLED</td>\n      <td>NaN</td>\n      <td>False</td>\n      <td>True</td>\n      <td>25.0</td>\n      <td>NaN</td>\n      <td>NaN</td>\n      <td>NaN</td>\n      <td>2.0</td>\n      <td>NaN</td>\n      <td>GOOD</td>\n    </tr>\n    <tr>\n      <th>19</th>\n      <td>9039245</td>\n      <td>1330</td>\n      <td>HOUSE</td>\n      <td>HOUSE</td>\n      <td>585000.0</td>\n      <td>FOR_SALE</td>\n      <td>5.0</td>\n      <td>187.0</td>\n      <td>SEMI_EQUIPPED</td>\n      <td>False</td>\n      <td>False</td>\n      <td>True</td>\n      <td>74.0</td>\n      <td>NaN</td>\n      <td>NaN</td>\n      <td>483.0</td>\n      <td>3.0</td>\n      <td>False</td>\n      <td>GOOD</td>\n    </tr>\n  </tbody>\n</table>\n</div>"
     },
     "metadata": {},
     "execution_count": 145
    }
   ],
   "source": [
    "#importing datas from the github repository\n",
    "data = pd.read_csv('data/immoweb_scrapped.csv', sep= ',')\n",
    "\n",
    "#showing the 20 first rows of the dataframe\n",
    "data.head(20)"
   ]
  },
  {
   "cell_type": "code",
   "execution_count": 146,
   "metadata": {},
   "outputs": [
    {
     "output_type": "execute_result",
     "data": {
      "text/plain": [
       "(10006, 19)"
      ]
     },
     "metadata": {},
     "execution_count": 146
    }
   ],
   "source": [
    "#number of columns and rows before cleaning\n",
    "data.shape"
   ]
  },
  {
   "cell_type": "code",
   "execution_count": 147,
   "metadata": {},
   "outputs": [],
   "source": [
    "#removing all the rows without a price\n",
    "data = data.dropna(subset=['price'])"
   ]
  },
  {
   "cell_type": "code",
   "execution_count": 148,
   "metadata": {},
   "outputs": [
    {
     "output_type": "execute_result",
     "data": {
      "text/plain": [
       "         id  locality type_of_property   subtype_of_property      price  \\\n",
       "0   9044081      1083        APARTMENT             APARTMENT   265000.0   \n",
       "1   9043978      1000        APARTMENT             APARTMENT  1795000.0   \n",
       "2   9044188      1050            HOUSE               MANSION  3800000.0   \n",
       "3   9041095      4860            HOUSE                 HOUSE   320000.0   \n",
       "6   9043036      9600        APARTMENT             APARTMENT   195000.0   \n",
       "7   9042950      6010        APARTMENT               TRIPLEX   235000.0   \n",
       "8   9042073      1070        APARTMENT             APARTMENT   320000.0   \n",
       "9   9042267      7181            HOUSE                 VILLA   325000.0   \n",
       "11  9042511      5340            HOUSE                 VILLA   569000.0   \n",
       "12  9034494      1950        APARTMENT             APARTMENT   715000.0   \n",
       "13  9039019      1050        APARTMENT             APARTMENT  1550000.0   \n",
       "14  9040949      3271            HOUSE                 HOUSE   230000.0   \n",
       "15  8997289      1180        APARTMENT           FLAT_STUDIO   224500.0   \n",
       "16  8949028      4870            HOUSE  EXCEPTIONAL_PROPERTY   349000.0   \n",
       "17  9039312      9000        APARTMENT             APARTMENT   358000.0   \n",
       "18  9039311      2060        APARTMENT                  LOFT   360500.0   \n",
       "19  9039245      1330            HOUSE                 HOUSE   585000.0   \n",
       "20  9039433      1180        APARTMENT             APARTMENT   780000.0   \n",
       "21  9038896      4430        APARTMENT             APARTMENT   210000.0   \n",
       "22  9038897      4430        APARTMENT             APARTMENT   250000.0   \n",
       "\n",
       "   type_of_sale  nr_of_rooms   area     equiped_kitchen furnished  open_fire  \\\n",
       "0      FOR_SALE          4.0   90.0           INSTALLED     False      False   \n",
       "1      FOR_SALE          4.0  650.0  USA_HYPER_EQUIPPED     False       True   \n",
       "2      FOR_SALE          5.0  752.0      HYPER_EQUIPPED     False      False   \n",
       "3      FOR_SALE          5.0  231.0       NOT_INSTALLED     False      False   \n",
       "6      FOR_SALE          2.0   75.0           INSTALLED       NaN      False   \n",
       "7      FOR_SALE          3.0  149.0      HYPER_EQUIPPED     False      False   \n",
       "8      FOR_SALE          3.0  130.0  USA_HYPER_EQUIPPED     False      False   \n",
       "9      FOR_SALE          2.0  130.0           INSTALLED     False      False   \n",
       "11     FOR_SALE          6.0  324.0           INSTALLED       NaN      False   \n",
       "12     FOR_SALE          2.0  126.0  USA_HYPER_EQUIPPED     False      False   \n",
       "13     FOR_SALE          3.0  213.0  USA_HYPER_EQUIPPED     False      False   \n",
       "14     FOR_SALE          4.0  226.0           INSTALLED       NaN      False   \n",
       "15     FOR_SALE          1.0   52.0      HYPER_EQUIPPED     False       True   \n",
       "16     FOR_SALE          5.0  350.0      HYPER_EQUIPPED       NaN       True   \n",
       "17     FOR_SALE          2.0   85.0           INSTALLED       NaN      False   \n",
       "18     FOR_SALE          2.0  114.0           INSTALLED       NaN      False   \n",
       "19     FOR_SALE          5.0  187.0       SEMI_EQUIPPED     False      False   \n",
       "20     FOR_SALE          3.0  190.0  USA_HYPER_EQUIPPED     False      False   \n",
       "21     FOR_SALE          2.0   77.0           INSTALLED       NaN      False   \n",
       "22     FOR_SALE          2.0   97.0           INSTALLED       NaN      False   \n",
       "\n",
       "   terrace  terrace_area garden  garden_area  total_land_area  nr_of_facades  \\\n",
       "0     True          13.0    NaN          NaN              NaN            4.0   \n",
       "1     True         400.0    NaN          NaN              NaN            3.0   \n",
       "2     True          40.0   True          NaN            340.0            2.0   \n",
       "3     True          30.0   True       1200.0           1421.0            3.0   \n",
       "6      NaN           NaN    NaN          NaN              NaN            2.0   \n",
       "7     True          15.0    NaN          NaN              NaN            2.0   \n",
       "8     True          14.0    NaN          NaN              NaN            2.0   \n",
       "9     True          30.0   True        600.0           1043.0            4.0   \n",
       "11    True          57.0   True          NaN           2202.0            4.0   \n",
       "12    True           6.0    NaN          NaN              NaN            2.0   \n",
       "13    True          39.0    NaN          NaN              NaN            NaN   \n",
       "14    True          25.0   True        150.0            398.0            3.0   \n",
       "15    True           1.0    NaN          NaN              NaN            2.0   \n",
       "16    True          40.0   True        450.0            700.0            3.0   \n",
       "17    True           1.0    NaN          NaN              NaN            2.0   \n",
       "18    True          25.0    NaN          NaN              NaN            2.0   \n",
       "19    True          74.0    NaN          NaN            483.0            3.0   \n",
       "20    True         135.0    NaN          NaN              NaN            3.0   \n",
       "21    True           5.0    NaN          NaN              NaN            NaN   \n",
       "22    True           5.0    NaN          NaN              NaN            3.0   \n",
       "\n",
       "   swimming_pool building_condition  \n",
       "0            NaN             AS_NEW  \n",
       "1            NaN             AS_NEW  \n",
       "2            NaN     JUST_RENOVATED  \n",
       "3          False             AS_NEW  \n",
       "6            NaN               GOOD  \n",
       "7          False             AS_NEW  \n",
       "8            NaN             AS_NEW  \n",
       "9          False      TO_BE_DONE_UP  \n",
       "11           NaN     JUST_RENOVATED  \n",
       "12         False             AS_NEW  \n",
       "13         False             AS_NEW  \n",
       "14           NaN        TO_RENOVATE  \n",
       "15           NaN               GOOD  \n",
       "16           NaN               GOOD  \n",
       "17           NaN               GOOD  \n",
       "18           NaN               GOOD  \n",
       "19         False               GOOD  \n",
       "20         False     JUST_RENOVATED  \n",
       "21           NaN             AS_NEW  \n",
       "22           NaN             AS_NEW  "
      ],
      "text/html": "<div>\n<style scoped>\n    .dataframe tbody tr th:only-of-type {\n        vertical-align: middle;\n    }\n\n    .dataframe tbody tr th {\n        vertical-align: top;\n    }\n\n    .dataframe thead th {\n        text-align: right;\n    }\n</style>\n<table border=\"1\" class=\"dataframe\">\n  <thead>\n    <tr style=\"text-align: right;\">\n      <th></th>\n      <th>id</th>\n      <th>locality</th>\n      <th>type_of_property</th>\n      <th>subtype_of_property</th>\n      <th>price</th>\n      <th>type_of_sale</th>\n      <th>nr_of_rooms</th>\n      <th>area</th>\n      <th>equiped_kitchen</th>\n      <th>furnished</th>\n      <th>open_fire</th>\n      <th>terrace</th>\n      <th>terrace_area</th>\n      <th>garden</th>\n      <th>garden_area</th>\n      <th>total_land_area</th>\n      <th>nr_of_facades</th>\n      <th>swimming_pool</th>\n      <th>building_condition</th>\n    </tr>\n  </thead>\n  <tbody>\n    <tr>\n      <th>0</th>\n      <td>9044081</td>\n      <td>1083</td>\n      <td>APARTMENT</td>\n      <td>APARTMENT</td>\n      <td>265000.0</td>\n      <td>FOR_SALE</td>\n      <td>4.0</td>\n      <td>90.0</td>\n      <td>INSTALLED</td>\n      <td>False</td>\n      <td>False</td>\n      <td>True</td>\n      <td>13.0</td>\n      <td>NaN</td>\n      <td>NaN</td>\n      <td>NaN</td>\n      <td>4.0</td>\n      <td>NaN</td>\n      <td>AS_NEW</td>\n    </tr>\n    <tr>\n      <th>1</th>\n      <td>9043978</td>\n      <td>1000</td>\n      <td>APARTMENT</td>\n      <td>APARTMENT</td>\n      <td>1795000.0</td>\n      <td>FOR_SALE</td>\n      <td>4.0</td>\n      <td>650.0</td>\n      <td>USA_HYPER_EQUIPPED</td>\n      <td>False</td>\n      <td>True</td>\n      <td>True</td>\n      <td>400.0</td>\n      <td>NaN</td>\n      <td>NaN</td>\n      <td>NaN</td>\n      <td>3.0</td>\n      <td>NaN</td>\n      <td>AS_NEW</td>\n    </tr>\n    <tr>\n      <th>2</th>\n      <td>9044188</td>\n      <td>1050</td>\n      <td>HOUSE</td>\n      <td>MANSION</td>\n      <td>3800000.0</td>\n      <td>FOR_SALE</td>\n      <td>5.0</td>\n      <td>752.0</td>\n      <td>HYPER_EQUIPPED</td>\n      <td>False</td>\n      <td>False</td>\n      <td>True</td>\n      <td>40.0</td>\n      <td>True</td>\n      <td>NaN</td>\n      <td>340.0</td>\n      <td>2.0</td>\n      <td>NaN</td>\n      <td>JUST_RENOVATED</td>\n    </tr>\n    <tr>\n      <th>3</th>\n      <td>9041095</td>\n      <td>4860</td>\n      <td>HOUSE</td>\n      <td>HOUSE</td>\n      <td>320000.0</td>\n      <td>FOR_SALE</td>\n      <td>5.0</td>\n      <td>231.0</td>\n      <td>NOT_INSTALLED</td>\n      <td>False</td>\n      <td>False</td>\n      <td>True</td>\n      <td>30.0</td>\n      <td>True</td>\n      <td>1200.0</td>\n      <td>1421.0</td>\n      <td>3.0</td>\n      <td>False</td>\n      <td>AS_NEW</td>\n    </tr>\n    <tr>\n      <th>6</th>\n      <td>9043036</td>\n      <td>9600</td>\n      <td>APARTMENT</td>\n      <td>APARTMENT</td>\n      <td>195000.0</td>\n      <td>FOR_SALE</td>\n      <td>2.0</td>\n      <td>75.0</td>\n      <td>INSTALLED</td>\n      <td>NaN</td>\n      <td>False</td>\n      <td>NaN</td>\n      <td>NaN</td>\n      <td>NaN</td>\n      <td>NaN</td>\n      <td>NaN</td>\n      <td>2.0</td>\n      <td>NaN</td>\n      <td>GOOD</td>\n    </tr>\n    <tr>\n      <th>7</th>\n      <td>9042950</td>\n      <td>6010</td>\n      <td>APARTMENT</td>\n      <td>TRIPLEX</td>\n      <td>235000.0</td>\n      <td>FOR_SALE</td>\n      <td>3.0</td>\n      <td>149.0</td>\n      <td>HYPER_EQUIPPED</td>\n      <td>False</td>\n      <td>False</td>\n      <td>True</td>\n      <td>15.0</td>\n      <td>NaN</td>\n      <td>NaN</td>\n      <td>NaN</td>\n      <td>2.0</td>\n      <td>False</td>\n      <td>AS_NEW</td>\n    </tr>\n    <tr>\n      <th>8</th>\n      <td>9042073</td>\n      <td>1070</td>\n      <td>APARTMENT</td>\n      <td>APARTMENT</td>\n      <td>320000.0</td>\n      <td>FOR_SALE</td>\n      <td>3.0</td>\n      <td>130.0</td>\n      <td>USA_HYPER_EQUIPPED</td>\n      <td>False</td>\n      <td>False</td>\n      <td>True</td>\n      <td>14.0</td>\n      <td>NaN</td>\n      <td>NaN</td>\n      <td>NaN</td>\n      <td>2.0</td>\n      <td>NaN</td>\n      <td>AS_NEW</td>\n    </tr>\n    <tr>\n      <th>9</th>\n      <td>9042267</td>\n      <td>7181</td>\n      <td>HOUSE</td>\n      <td>VILLA</td>\n      <td>325000.0</td>\n      <td>FOR_SALE</td>\n      <td>2.0</td>\n      <td>130.0</td>\n      <td>INSTALLED</td>\n      <td>False</td>\n      <td>False</td>\n      <td>True</td>\n      <td>30.0</td>\n      <td>True</td>\n      <td>600.0</td>\n      <td>1043.0</td>\n      <td>4.0</td>\n      <td>False</td>\n      <td>TO_BE_DONE_UP</td>\n    </tr>\n    <tr>\n      <th>11</th>\n      <td>9042511</td>\n      <td>5340</td>\n      <td>HOUSE</td>\n      <td>VILLA</td>\n      <td>569000.0</td>\n      <td>FOR_SALE</td>\n      <td>6.0</td>\n      <td>324.0</td>\n      <td>INSTALLED</td>\n      <td>NaN</td>\n      <td>False</td>\n      <td>True</td>\n      <td>57.0</td>\n      <td>True</td>\n      <td>NaN</td>\n      <td>2202.0</td>\n      <td>4.0</td>\n      <td>NaN</td>\n      <td>JUST_RENOVATED</td>\n    </tr>\n    <tr>\n      <th>12</th>\n      <td>9034494</td>\n      <td>1950</td>\n      <td>APARTMENT</td>\n      <td>APARTMENT</td>\n      <td>715000.0</td>\n      <td>FOR_SALE</td>\n      <td>2.0</td>\n      <td>126.0</td>\n      <td>USA_HYPER_EQUIPPED</td>\n      <td>False</td>\n      <td>False</td>\n      <td>True</td>\n      <td>6.0</td>\n      <td>NaN</td>\n      <td>NaN</td>\n      <td>NaN</td>\n      <td>2.0</td>\n      <td>False</td>\n      <td>AS_NEW</td>\n    </tr>\n    <tr>\n      <th>13</th>\n      <td>9039019</td>\n      <td>1050</td>\n      <td>APARTMENT</td>\n      <td>APARTMENT</td>\n      <td>1550000.0</td>\n      <td>FOR_SALE</td>\n      <td>3.0</td>\n      <td>213.0</td>\n      <td>USA_HYPER_EQUIPPED</td>\n      <td>False</td>\n      <td>False</td>\n      <td>True</td>\n      <td>39.0</td>\n      <td>NaN</td>\n      <td>NaN</td>\n      <td>NaN</td>\n      <td>NaN</td>\n      <td>False</td>\n      <td>AS_NEW</td>\n    </tr>\n    <tr>\n      <th>14</th>\n      <td>9040949</td>\n      <td>3271</td>\n      <td>HOUSE</td>\n      <td>HOUSE</td>\n      <td>230000.0</td>\n      <td>FOR_SALE</td>\n      <td>4.0</td>\n      <td>226.0</td>\n      <td>INSTALLED</td>\n      <td>NaN</td>\n      <td>False</td>\n      <td>True</td>\n      <td>25.0</td>\n      <td>True</td>\n      <td>150.0</td>\n      <td>398.0</td>\n      <td>3.0</td>\n      <td>NaN</td>\n      <td>TO_RENOVATE</td>\n    </tr>\n    <tr>\n      <th>15</th>\n      <td>8997289</td>\n      <td>1180</td>\n      <td>APARTMENT</td>\n      <td>FLAT_STUDIO</td>\n      <td>224500.0</td>\n      <td>FOR_SALE</td>\n      <td>1.0</td>\n      <td>52.0</td>\n      <td>HYPER_EQUIPPED</td>\n      <td>False</td>\n      <td>True</td>\n      <td>True</td>\n      <td>1.0</td>\n      <td>NaN</td>\n      <td>NaN</td>\n      <td>NaN</td>\n      <td>2.0</td>\n      <td>NaN</td>\n      <td>GOOD</td>\n    </tr>\n    <tr>\n      <th>16</th>\n      <td>8949028</td>\n      <td>4870</td>\n      <td>HOUSE</td>\n      <td>EXCEPTIONAL_PROPERTY</td>\n      <td>349000.0</td>\n      <td>FOR_SALE</td>\n      <td>5.0</td>\n      <td>350.0</td>\n      <td>HYPER_EQUIPPED</td>\n      <td>NaN</td>\n      <td>True</td>\n      <td>True</td>\n      <td>40.0</td>\n      <td>True</td>\n      <td>450.0</td>\n      <td>700.0</td>\n      <td>3.0</td>\n      <td>NaN</td>\n      <td>GOOD</td>\n    </tr>\n    <tr>\n      <th>17</th>\n      <td>9039312</td>\n      <td>9000</td>\n      <td>APARTMENT</td>\n      <td>APARTMENT</td>\n      <td>358000.0</td>\n      <td>FOR_SALE</td>\n      <td>2.0</td>\n      <td>85.0</td>\n      <td>INSTALLED</td>\n      <td>NaN</td>\n      <td>False</td>\n      <td>True</td>\n      <td>1.0</td>\n      <td>NaN</td>\n      <td>NaN</td>\n      <td>NaN</td>\n      <td>2.0</td>\n      <td>NaN</td>\n      <td>GOOD</td>\n    </tr>\n    <tr>\n      <th>18</th>\n      <td>9039311</td>\n      <td>2060</td>\n      <td>APARTMENT</td>\n      <td>LOFT</td>\n      <td>360500.0</td>\n      <td>FOR_SALE</td>\n      <td>2.0</td>\n      <td>114.0</td>\n      <td>INSTALLED</td>\n      <td>NaN</td>\n      <td>False</td>\n      <td>True</td>\n      <td>25.0</td>\n      <td>NaN</td>\n      <td>NaN</td>\n      <td>NaN</td>\n      <td>2.0</td>\n      <td>NaN</td>\n      <td>GOOD</td>\n    </tr>\n    <tr>\n      <th>19</th>\n      <td>9039245</td>\n      <td>1330</td>\n      <td>HOUSE</td>\n      <td>HOUSE</td>\n      <td>585000.0</td>\n      <td>FOR_SALE</td>\n      <td>5.0</td>\n      <td>187.0</td>\n      <td>SEMI_EQUIPPED</td>\n      <td>False</td>\n      <td>False</td>\n      <td>True</td>\n      <td>74.0</td>\n      <td>NaN</td>\n      <td>NaN</td>\n      <td>483.0</td>\n      <td>3.0</td>\n      <td>False</td>\n      <td>GOOD</td>\n    </tr>\n    <tr>\n      <th>20</th>\n      <td>9039433</td>\n      <td>1180</td>\n      <td>APARTMENT</td>\n      <td>APARTMENT</td>\n      <td>780000.0</td>\n      <td>FOR_SALE</td>\n      <td>3.0</td>\n      <td>190.0</td>\n      <td>USA_HYPER_EQUIPPED</td>\n      <td>False</td>\n      <td>False</td>\n      <td>True</td>\n      <td>135.0</td>\n      <td>NaN</td>\n      <td>NaN</td>\n      <td>NaN</td>\n      <td>3.0</td>\n      <td>False</td>\n      <td>JUST_RENOVATED</td>\n    </tr>\n    <tr>\n      <th>21</th>\n      <td>9038896</td>\n      <td>4430</td>\n      <td>APARTMENT</td>\n      <td>APARTMENT</td>\n      <td>210000.0</td>\n      <td>FOR_SALE</td>\n      <td>2.0</td>\n      <td>77.0</td>\n      <td>INSTALLED</td>\n      <td>NaN</td>\n      <td>False</td>\n      <td>True</td>\n      <td>5.0</td>\n      <td>NaN</td>\n      <td>NaN</td>\n      <td>NaN</td>\n      <td>NaN</td>\n      <td>NaN</td>\n      <td>AS_NEW</td>\n    </tr>\n    <tr>\n      <th>22</th>\n      <td>9038897</td>\n      <td>4430</td>\n      <td>APARTMENT</td>\n      <td>APARTMENT</td>\n      <td>250000.0</td>\n      <td>FOR_SALE</td>\n      <td>2.0</td>\n      <td>97.0</td>\n      <td>INSTALLED</td>\n      <td>NaN</td>\n      <td>False</td>\n      <td>True</td>\n      <td>5.0</td>\n      <td>NaN</td>\n      <td>NaN</td>\n      <td>NaN</td>\n      <td>3.0</td>\n      <td>NaN</td>\n      <td>AS_NEW</td>\n    </tr>\n  </tbody>\n</table>\n</div>"
     },
     "metadata": {},
     "execution_count": 148
    }
   ],
   "source": [
    "#showing dataframe after first cleanings \n",
    "data.head(20)"
   ]
  },
  {
   "cell_type": "code",
   "execution_count": 149,
   "metadata": {},
   "outputs": [
    {
     "output_type": "execute_result",
     "data": {
      "text/plain": [
       "(9054, 19)"
      ]
     },
     "metadata": {},
     "execution_count": 149
    }
   ],
   "source": [
    "#taking a look in the recent dataframe shape\n",
    "data.shape"
   ]
  },
  {
   "cell_type": "code",
   "execution_count": 150,
   "metadata": {},
   "outputs": [
    {
     "output_type": "execute_result",
     "data": {
      "text/plain": [
       "id                       int64\n",
       "locality                 int64\n",
       "type_of_property        object\n",
       "subtype_of_property     object\n",
       "price                  float64\n",
       "type_of_sale            object\n",
       "nr_of_rooms            float64\n",
       "area                   float64\n",
       "equiped_kitchen         object\n",
       "furnished               object\n",
       "open_fire                 bool\n",
       "terrace                 object\n",
       "terrace_area           float64\n",
       "garden                  object\n",
       "garden_area            float64\n",
       "total_land_area        float64\n",
       "nr_of_facades          float64\n",
       "swimming_pool           object\n",
       "building_condition      object\n",
       "dtype: object"
      ]
     },
     "metadata": {},
     "execution_count": 150
    }
   ],
   "source": [
    "data.dtypes"
   ]
  },
  {
   "cell_type": "code",
   "execution_count": 151,
   "metadata": {},
   "outputs": [],
   "source": [
    "#setting the index to 'id' column instead of the default one\n",
    "data = data.set_index(['id'])"
   ]
  },
  {
   "cell_type": "code",
   "execution_count": 152,
   "metadata": {},
   "outputs": [
    {
     "output_type": "execute_result",
     "data": {
      "text/plain": [
       "         locality type_of_property subtype_of_property      price  \\\n",
       "id                                                                  \n",
       "9044081      1083        APARTMENT           APARTMENT   265000.0   \n",
       "9043978      1000        APARTMENT           APARTMENT  1795000.0   \n",
       "9044188      1050            HOUSE             MANSION  3800000.0   \n",
       "9041095      4860            HOUSE               HOUSE   320000.0   \n",
       "9043036      9600        APARTMENT           APARTMENT   195000.0   \n",
       "\n",
       "        type_of_sale  nr_of_rooms   area     equiped_kitchen furnished  \\\n",
       "id                                                                       \n",
       "9044081     FOR_SALE          4.0   90.0           INSTALLED     False   \n",
       "9043978     FOR_SALE          4.0  650.0  USA_HYPER_EQUIPPED     False   \n",
       "9044188     FOR_SALE          5.0  752.0      HYPER_EQUIPPED     False   \n",
       "9041095     FOR_SALE          5.0  231.0       NOT_INSTALLED     False   \n",
       "9043036     FOR_SALE          2.0   75.0           INSTALLED       NaN   \n",
       "\n",
       "         open_fire terrace  terrace_area garden  garden_area  total_land_area  \\\n",
       "id                                                                              \n",
       "9044081      False    True          13.0    NaN          NaN              NaN   \n",
       "9043978       True    True         400.0    NaN          NaN              NaN   \n",
       "9044188      False    True          40.0   True          NaN            340.0   \n",
       "9041095      False    True          30.0   True       1200.0           1421.0   \n",
       "9043036      False     NaN           NaN    NaN          NaN              NaN   \n",
       "\n",
       "         nr_of_facades swimming_pool building_condition  \n",
       "id                                                       \n",
       "9044081            4.0           NaN             AS_NEW  \n",
       "9043978            3.0           NaN             AS_NEW  \n",
       "9044188            2.0           NaN     JUST_RENOVATED  \n",
       "9041095            3.0         False             AS_NEW  \n",
       "9043036            2.0           NaN               GOOD  "
      ],
      "text/html": "<div>\n<style scoped>\n    .dataframe tbody tr th:only-of-type {\n        vertical-align: middle;\n    }\n\n    .dataframe tbody tr th {\n        vertical-align: top;\n    }\n\n    .dataframe thead th {\n        text-align: right;\n    }\n</style>\n<table border=\"1\" class=\"dataframe\">\n  <thead>\n    <tr style=\"text-align: right;\">\n      <th></th>\n      <th>locality</th>\n      <th>type_of_property</th>\n      <th>subtype_of_property</th>\n      <th>price</th>\n      <th>type_of_sale</th>\n      <th>nr_of_rooms</th>\n      <th>area</th>\n      <th>equiped_kitchen</th>\n      <th>furnished</th>\n      <th>open_fire</th>\n      <th>terrace</th>\n      <th>terrace_area</th>\n      <th>garden</th>\n      <th>garden_area</th>\n      <th>total_land_area</th>\n      <th>nr_of_facades</th>\n      <th>swimming_pool</th>\n      <th>building_condition</th>\n    </tr>\n    <tr>\n      <th>id</th>\n      <th></th>\n      <th></th>\n      <th></th>\n      <th></th>\n      <th></th>\n      <th></th>\n      <th></th>\n      <th></th>\n      <th></th>\n      <th></th>\n      <th></th>\n      <th></th>\n      <th></th>\n      <th></th>\n      <th></th>\n      <th></th>\n      <th></th>\n      <th></th>\n    </tr>\n  </thead>\n  <tbody>\n    <tr>\n      <th>9044081</th>\n      <td>1083</td>\n      <td>APARTMENT</td>\n      <td>APARTMENT</td>\n      <td>265000.0</td>\n      <td>FOR_SALE</td>\n      <td>4.0</td>\n      <td>90.0</td>\n      <td>INSTALLED</td>\n      <td>False</td>\n      <td>False</td>\n      <td>True</td>\n      <td>13.0</td>\n      <td>NaN</td>\n      <td>NaN</td>\n      <td>NaN</td>\n      <td>4.0</td>\n      <td>NaN</td>\n      <td>AS_NEW</td>\n    </tr>\n    <tr>\n      <th>9043978</th>\n      <td>1000</td>\n      <td>APARTMENT</td>\n      <td>APARTMENT</td>\n      <td>1795000.0</td>\n      <td>FOR_SALE</td>\n      <td>4.0</td>\n      <td>650.0</td>\n      <td>USA_HYPER_EQUIPPED</td>\n      <td>False</td>\n      <td>True</td>\n      <td>True</td>\n      <td>400.0</td>\n      <td>NaN</td>\n      <td>NaN</td>\n      <td>NaN</td>\n      <td>3.0</td>\n      <td>NaN</td>\n      <td>AS_NEW</td>\n    </tr>\n    <tr>\n      <th>9044188</th>\n      <td>1050</td>\n      <td>HOUSE</td>\n      <td>MANSION</td>\n      <td>3800000.0</td>\n      <td>FOR_SALE</td>\n      <td>5.0</td>\n      <td>752.0</td>\n      <td>HYPER_EQUIPPED</td>\n      <td>False</td>\n      <td>False</td>\n      <td>True</td>\n      <td>40.0</td>\n      <td>True</td>\n      <td>NaN</td>\n      <td>340.0</td>\n      <td>2.0</td>\n      <td>NaN</td>\n      <td>JUST_RENOVATED</td>\n    </tr>\n    <tr>\n      <th>9041095</th>\n      <td>4860</td>\n      <td>HOUSE</td>\n      <td>HOUSE</td>\n      <td>320000.0</td>\n      <td>FOR_SALE</td>\n      <td>5.0</td>\n      <td>231.0</td>\n      <td>NOT_INSTALLED</td>\n      <td>False</td>\n      <td>False</td>\n      <td>True</td>\n      <td>30.0</td>\n      <td>True</td>\n      <td>1200.0</td>\n      <td>1421.0</td>\n      <td>3.0</td>\n      <td>False</td>\n      <td>AS_NEW</td>\n    </tr>\n    <tr>\n      <th>9043036</th>\n      <td>9600</td>\n      <td>APARTMENT</td>\n      <td>APARTMENT</td>\n      <td>195000.0</td>\n      <td>FOR_SALE</td>\n      <td>2.0</td>\n      <td>75.0</td>\n      <td>INSTALLED</td>\n      <td>NaN</td>\n      <td>False</td>\n      <td>NaN</td>\n      <td>NaN</td>\n      <td>NaN</td>\n      <td>NaN</td>\n      <td>NaN</td>\n      <td>2.0</td>\n      <td>NaN</td>\n      <td>GOOD</td>\n    </tr>\n  </tbody>\n</table>\n</div>"
     },
     "metadata": {},
     "execution_count": 152
    }
   ],
   "source": [
    "#fast check of the head\n",
    "data.head(5)"
   ]
  },
  {
   "cell_type": "code",
   "execution_count": 153,
   "metadata": {},
   "outputs": [
    {
     "output_type": "execute_result",
     "data": {
      "text/plain": [
       "array(['INSTALLED', 'USA_HYPER_EQUIPPED', 'HYPER_EQUIPPED',\n",
       "       'NOT_INSTALLED', 'SEMI_EQUIPPED', 'USA_INSTALLED',\n",
       "       'USA_SEMI_EQUIPPED', nan, 'USA_UNINSTALLED'], dtype=object)"
      ]
     },
     "metadata": {},
     "execution_count": 153
    }
   ],
   "source": [
    "#see all the differents values taken by the column 'equiped_kitchen' before changes\n",
    "data['equiped_kitchen'].unique()"
   ]
  },
  {
   "cell_type": "code",
   "execution_count": 154,
   "metadata": {},
   "outputs": [],
   "source": [
    "#replace all `nan` values by zero (0) in the column\n",
    "data['equiped_kitchen'] = data['equiped_kitchen'].replace(np.nan, 0)\n",
    "\n",
    "#create a new column with condition over 'equiped_kitchen' column\n",
    "data['kitchen'] = np.where(data['equiped_kitchen'] != 0, True, False)"
   ]
  },
  {
   "cell_type": "code",
   "execution_count": 155,
   "metadata": {},
   "outputs": [
    {
     "output_type": "execute_result",
     "data": {
      "text/plain": [
       "         locality type_of_property subtype_of_property     price type_of_sale  \\\n",
       "id                                                                              \n",
       "9037683      3300            HOUSE               HOUSE  199000.0     FOR_SALE   \n",
       "\n",
       "         nr_of_rooms   area equiped_kitchen furnished  open_fire terrace  \\\n",
       "id                                                                         \n",
       "9037683          3.0  154.0               0       NaN      False    True   \n",
       "\n",
       "         terrace_area garden  garden_area  total_land_area  nr_of_facades  \\\n",
       "id                                                                          \n",
       "9037683          15.0    NaN          NaN            400.0            3.0   \n",
       "\n",
       "        swimming_pool building_condition  kitchen  \n",
       "id                                                 \n",
       "9037683           NaN        TO_RENOVATE    False  "
      ],
      "text/html": "<div>\n<style scoped>\n    .dataframe tbody tr th:only-of-type {\n        vertical-align: middle;\n    }\n\n    .dataframe tbody tr th {\n        vertical-align: top;\n    }\n\n    .dataframe thead th {\n        text-align: right;\n    }\n</style>\n<table border=\"1\" class=\"dataframe\">\n  <thead>\n    <tr style=\"text-align: right;\">\n      <th></th>\n      <th>locality</th>\n      <th>type_of_property</th>\n      <th>subtype_of_property</th>\n      <th>price</th>\n      <th>type_of_sale</th>\n      <th>nr_of_rooms</th>\n      <th>area</th>\n      <th>equiped_kitchen</th>\n      <th>furnished</th>\n      <th>open_fire</th>\n      <th>terrace</th>\n      <th>terrace_area</th>\n      <th>garden</th>\n      <th>garden_area</th>\n      <th>total_land_area</th>\n      <th>nr_of_facades</th>\n      <th>swimming_pool</th>\n      <th>building_condition</th>\n      <th>kitchen</th>\n    </tr>\n    <tr>\n      <th>id</th>\n      <th></th>\n      <th></th>\n      <th></th>\n      <th></th>\n      <th></th>\n      <th></th>\n      <th></th>\n      <th></th>\n      <th></th>\n      <th></th>\n      <th></th>\n      <th></th>\n      <th></th>\n      <th></th>\n      <th></th>\n      <th></th>\n      <th></th>\n      <th></th>\n      <th></th>\n    </tr>\n  </thead>\n  <tbody>\n    <tr>\n      <th>9037683</th>\n      <td>3300</td>\n      <td>HOUSE</td>\n      <td>HOUSE</td>\n      <td>199000.0</td>\n      <td>FOR_SALE</td>\n      <td>3.0</td>\n      <td>154.0</td>\n      <td>0</td>\n      <td>NaN</td>\n      <td>False</td>\n      <td>True</td>\n      <td>15.0</td>\n      <td>NaN</td>\n      <td>NaN</td>\n      <td>400.0</td>\n      <td>3.0</td>\n      <td>NaN</td>\n      <td>TO_RENOVATE</td>\n      <td>False</td>\n    </tr>\n  </tbody>\n</table>\n</div>"
     },
     "metadata": {},
     "execution_count": 155
    }
   ],
   "source": [
    "#check for an `nan` value in the datafram if the condition is verified\n",
    "# .loc help to index a specifique row knowing his index\n",
    "data.loc[[9037683]]"
   ]
  },
  {
   "cell_type": "code",
   "execution_count": 168,
   "metadata": {},
   "outputs": [],
   "source": [
    "#determining the missing values in 'area' column \n",
    "#the missing values will be the difference between 'garden_area' and 'total_land_area'\n",
    "#before that let's clean the concerned columns by replacing their 'nan' values too\n",
    "\n",
    "data['garden_area'] = data['garden_area'].replace(np.nan, 0)\n",
    "data['total_land_area'] = data['total_land_area'].replace(np.nan, 0)"
   ]
  },
  {
   "cell_type": "code",
   "execution_count": 157,
   "metadata": {},
   "outputs": [
    {
     "output_type": "execute_result",
     "data": {
      "text/plain": [
       "         locality type_of_property subtype_of_property      price  \\\n",
       "id                                                                  \n",
       "9044081      1083        APARTMENT           APARTMENT   265000.0   \n",
       "9043978      1000        APARTMENT           APARTMENT  1795000.0   \n",
       "9044188      1050            HOUSE             MANSION  3800000.0   \n",
       "9041095      4860            HOUSE               HOUSE   320000.0   \n",
       "9043036      9600        APARTMENT           APARTMENT   195000.0   \n",
       "9042950      6010        APARTMENT             TRIPLEX   235000.0   \n",
       "9042073      1070        APARTMENT           APARTMENT   320000.0   \n",
       "9042267      7181            HOUSE               VILLA   325000.0   \n",
       "9042511      5340            HOUSE               VILLA   569000.0   \n",
       "9034494      1950        APARTMENT           APARTMENT   715000.0   \n",
       "\n",
       "        type_of_sale  nr_of_rooms   area     equiped_kitchen furnished  \\\n",
       "id                                                                       \n",
       "9044081     FOR_SALE          4.0   90.0           INSTALLED     False   \n",
       "9043978     FOR_SALE          4.0  650.0  USA_HYPER_EQUIPPED     False   \n",
       "9044188     FOR_SALE          5.0  752.0      HYPER_EQUIPPED     False   \n",
       "9041095     FOR_SALE          5.0  231.0       NOT_INSTALLED     False   \n",
       "9043036     FOR_SALE          2.0   75.0           INSTALLED       NaN   \n",
       "9042950     FOR_SALE          3.0  149.0      HYPER_EQUIPPED     False   \n",
       "9042073     FOR_SALE          3.0  130.0  USA_HYPER_EQUIPPED     False   \n",
       "9042267     FOR_SALE          2.0  130.0           INSTALLED     False   \n",
       "9042511     FOR_SALE          6.0  324.0           INSTALLED       NaN   \n",
       "9034494     FOR_SALE          2.0  126.0  USA_HYPER_EQUIPPED     False   \n",
       "\n",
       "         open_fire terrace  terrace_area garden  garden_area  total_land_area  \\\n",
       "id                                                                              \n",
       "9044081      False    True          13.0    NaN          NaN              NaN   \n",
       "9043978       True    True         400.0    NaN          NaN              NaN   \n",
       "9044188      False    True          40.0   True          NaN            340.0   \n",
       "9041095      False    True          30.0   True       1200.0           1421.0   \n",
       "9043036      False     NaN           NaN    NaN          NaN              NaN   \n",
       "9042950      False    True          15.0    NaN          NaN              NaN   \n",
       "9042073      False    True          14.0    NaN          NaN              NaN   \n",
       "9042267      False    True          30.0   True        600.0           1043.0   \n",
       "9042511      False    True          57.0   True          NaN           2202.0   \n",
       "9034494      False    True           6.0    NaN          NaN              NaN   \n",
       "\n",
       "         nr_of_facades swimming_pool building_condition  kitchen  \n",
       "id                                                                \n",
       "9044081            4.0           NaN             AS_NEW     True  \n",
       "9043978            3.0           NaN             AS_NEW     True  \n",
       "9044188            2.0           NaN     JUST_RENOVATED     True  \n",
       "9041095            3.0         False             AS_NEW     True  \n",
       "9043036            2.0           NaN               GOOD     True  \n",
       "9042950            2.0         False             AS_NEW     True  \n",
       "9042073            2.0           NaN             AS_NEW     True  \n",
       "9042267            4.0         False      TO_BE_DONE_UP     True  \n",
       "9042511            4.0           NaN     JUST_RENOVATED     True  \n",
       "9034494            2.0         False             AS_NEW     True  "
      ],
      "text/html": "<div>\n<style scoped>\n    .dataframe tbody tr th:only-of-type {\n        vertical-align: middle;\n    }\n\n    .dataframe tbody tr th {\n        vertical-align: top;\n    }\n\n    .dataframe thead th {\n        text-align: right;\n    }\n</style>\n<table border=\"1\" class=\"dataframe\">\n  <thead>\n    <tr style=\"text-align: right;\">\n      <th></th>\n      <th>locality</th>\n      <th>type_of_property</th>\n      <th>subtype_of_property</th>\n      <th>price</th>\n      <th>type_of_sale</th>\n      <th>nr_of_rooms</th>\n      <th>area</th>\n      <th>equiped_kitchen</th>\n      <th>furnished</th>\n      <th>open_fire</th>\n      <th>terrace</th>\n      <th>terrace_area</th>\n      <th>garden</th>\n      <th>garden_area</th>\n      <th>total_land_area</th>\n      <th>nr_of_facades</th>\n      <th>swimming_pool</th>\n      <th>building_condition</th>\n      <th>kitchen</th>\n    </tr>\n    <tr>\n      <th>id</th>\n      <th></th>\n      <th></th>\n      <th></th>\n      <th></th>\n      <th></th>\n      <th></th>\n      <th></th>\n      <th></th>\n      <th></th>\n      <th></th>\n      <th></th>\n      <th></th>\n      <th></th>\n      <th></th>\n      <th></th>\n      <th></th>\n      <th></th>\n      <th></th>\n      <th></th>\n    </tr>\n  </thead>\n  <tbody>\n    <tr>\n      <th>9044081</th>\n      <td>1083</td>\n      <td>APARTMENT</td>\n      <td>APARTMENT</td>\n      <td>265000.0</td>\n      <td>FOR_SALE</td>\n      <td>4.0</td>\n      <td>90.0</td>\n      <td>INSTALLED</td>\n      <td>False</td>\n      <td>False</td>\n      <td>True</td>\n      <td>13.0</td>\n      <td>NaN</td>\n      <td>NaN</td>\n      <td>NaN</td>\n      <td>4.0</td>\n      <td>NaN</td>\n      <td>AS_NEW</td>\n      <td>True</td>\n    </tr>\n    <tr>\n      <th>9043978</th>\n      <td>1000</td>\n      <td>APARTMENT</td>\n      <td>APARTMENT</td>\n      <td>1795000.0</td>\n      <td>FOR_SALE</td>\n      <td>4.0</td>\n      <td>650.0</td>\n      <td>USA_HYPER_EQUIPPED</td>\n      <td>False</td>\n      <td>True</td>\n      <td>True</td>\n      <td>400.0</td>\n      <td>NaN</td>\n      <td>NaN</td>\n      <td>NaN</td>\n      <td>3.0</td>\n      <td>NaN</td>\n      <td>AS_NEW</td>\n      <td>True</td>\n    </tr>\n    <tr>\n      <th>9044188</th>\n      <td>1050</td>\n      <td>HOUSE</td>\n      <td>MANSION</td>\n      <td>3800000.0</td>\n      <td>FOR_SALE</td>\n      <td>5.0</td>\n      <td>752.0</td>\n      <td>HYPER_EQUIPPED</td>\n      <td>False</td>\n      <td>False</td>\n      <td>True</td>\n      <td>40.0</td>\n      <td>True</td>\n      <td>NaN</td>\n      <td>340.0</td>\n      <td>2.0</td>\n      <td>NaN</td>\n      <td>JUST_RENOVATED</td>\n      <td>True</td>\n    </tr>\n    <tr>\n      <th>9041095</th>\n      <td>4860</td>\n      <td>HOUSE</td>\n      <td>HOUSE</td>\n      <td>320000.0</td>\n      <td>FOR_SALE</td>\n      <td>5.0</td>\n      <td>231.0</td>\n      <td>NOT_INSTALLED</td>\n      <td>False</td>\n      <td>False</td>\n      <td>True</td>\n      <td>30.0</td>\n      <td>True</td>\n      <td>1200.0</td>\n      <td>1421.0</td>\n      <td>3.0</td>\n      <td>False</td>\n      <td>AS_NEW</td>\n      <td>True</td>\n    </tr>\n    <tr>\n      <th>9043036</th>\n      <td>9600</td>\n      <td>APARTMENT</td>\n      <td>APARTMENT</td>\n      <td>195000.0</td>\n      <td>FOR_SALE</td>\n      <td>2.0</td>\n      <td>75.0</td>\n      <td>INSTALLED</td>\n      <td>NaN</td>\n      <td>False</td>\n      <td>NaN</td>\n      <td>NaN</td>\n      <td>NaN</td>\n      <td>NaN</td>\n      <td>NaN</td>\n      <td>2.0</td>\n      <td>NaN</td>\n      <td>GOOD</td>\n      <td>True</td>\n    </tr>\n    <tr>\n      <th>9042950</th>\n      <td>6010</td>\n      <td>APARTMENT</td>\n      <td>TRIPLEX</td>\n      <td>235000.0</td>\n      <td>FOR_SALE</td>\n      <td>3.0</td>\n      <td>149.0</td>\n      <td>HYPER_EQUIPPED</td>\n      <td>False</td>\n      <td>False</td>\n      <td>True</td>\n      <td>15.0</td>\n      <td>NaN</td>\n      <td>NaN</td>\n      <td>NaN</td>\n      <td>2.0</td>\n      <td>False</td>\n      <td>AS_NEW</td>\n      <td>True</td>\n    </tr>\n    <tr>\n      <th>9042073</th>\n      <td>1070</td>\n      <td>APARTMENT</td>\n      <td>APARTMENT</td>\n      <td>320000.0</td>\n      <td>FOR_SALE</td>\n      <td>3.0</td>\n      <td>130.0</td>\n      <td>USA_HYPER_EQUIPPED</td>\n      <td>False</td>\n      <td>False</td>\n      <td>True</td>\n      <td>14.0</td>\n      <td>NaN</td>\n      <td>NaN</td>\n      <td>NaN</td>\n      <td>2.0</td>\n      <td>NaN</td>\n      <td>AS_NEW</td>\n      <td>True</td>\n    </tr>\n    <tr>\n      <th>9042267</th>\n      <td>7181</td>\n      <td>HOUSE</td>\n      <td>VILLA</td>\n      <td>325000.0</td>\n      <td>FOR_SALE</td>\n      <td>2.0</td>\n      <td>130.0</td>\n      <td>INSTALLED</td>\n      <td>False</td>\n      <td>False</td>\n      <td>True</td>\n      <td>30.0</td>\n      <td>True</td>\n      <td>600.0</td>\n      <td>1043.0</td>\n      <td>4.0</td>\n      <td>False</td>\n      <td>TO_BE_DONE_UP</td>\n      <td>True</td>\n    </tr>\n    <tr>\n      <th>9042511</th>\n      <td>5340</td>\n      <td>HOUSE</td>\n      <td>VILLA</td>\n      <td>569000.0</td>\n      <td>FOR_SALE</td>\n      <td>6.0</td>\n      <td>324.0</td>\n      <td>INSTALLED</td>\n      <td>NaN</td>\n      <td>False</td>\n      <td>True</td>\n      <td>57.0</td>\n      <td>True</td>\n      <td>NaN</td>\n      <td>2202.0</td>\n      <td>4.0</td>\n      <td>NaN</td>\n      <td>JUST_RENOVATED</td>\n      <td>True</td>\n    </tr>\n    <tr>\n      <th>9034494</th>\n      <td>1950</td>\n      <td>APARTMENT</td>\n      <td>APARTMENT</td>\n      <td>715000.0</td>\n      <td>FOR_SALE</td>\n      <td>2.0</td>\n      <td>126.0</td>\n      <td>USA_HYPER_EQUIPPED</td>\n      <td>False</td>\n      <td>False</td>\n      <td>True</td>\n      <td>6.0</td>\n      <td>NaN</td>\n      <td>NaN</td>\n      <td>NaN</td>\n      <td>2.0</td>\n      <td>False</td>\n      <td>AS_NEW</td>\n      <td>True</td>\n    </tr>\n  </tbody>\n</table>\n</div>"
     },
     "metadata": {},
     "execution_count": 157
    }
   ],
   "source": [
    "#fast check\n",
    "data.head(10)"
   ]
  },
  {
   "cell_type": "code",
   "execution_count": 159,
   "metadata": {},
   "outputs": [
    {
     "output_type": "execute_result",
     "data": {
      "text/plain": [
       "921"
      ]
     },
     "metadata": {},
     "execution_count": 159
    }
   ],
   "source": [
    "data[(data['garden']== True) & (data['garden_area'] != data['garden_area'])].shape[0]"
   ]
  },
  {
   "cell_type": "code",
   "execution_count": 169,
   "metadata": {},
   "outputs": [
    {
     "output_type": "execute_result",
     "data": {
      "text/plain": [
       "268"
      ]
     },
     "metadata": {},
     "execution_count": 169
    }
   ],
   "source": [
    "data['area'].isna().sum()"
   ]
  },
  {
   "cell_type": "code",
   "execution_count": 178,
   "metadata": {},
   "outputs": [],
   "source": [
    "def area_adj(x):\n",
    "    if x['area'] != x['area']:\n",
    "        if x['total_land_area'] > x['garden_area']:\n",
    "            return x['total_land_area'] - x['garden_area']\n",
    "        else:\n",
    "            return -1\n",
    "    else:\n",
    "        return x['area']\n"
   ]
  },
  {
   "cell_type": "code",
   "execution_count": 179,
   "metadata": {},
   "outputs": [],
   "source": [
    "data['area'] = data.apply(area_adj, axis= 1)"
   ]
  },
  {
   "cell_type": "code",
   "execution_count": 180,
   "metadata": {},
   "outputs": [
    {
     "output_type": "execute_result",
     "data": {
      "text/plain": [
       "0"
      ]
     },
     "metadata": {},
     "execution_count": 180
    }
   ],
   "source": [
    "data['area'].isna().sum()"
   ]
  },
  {
   "cell_type": "code",
   "execution_count": 181,
   "metadata": {},
   "outputs": [
    {
     "output_type": "execute_result",
     "data": {
      "text/plain": [
       "         locality type_of_property   subtype_of_property      price  \\\n",
       "id                                                                    \n",
       "9044081      1083        APARTMENT             APARTMENT   265000.0   \n",
       "9043978      1000        APARTMENT             APARTMENT  1795000.0   \n",
       "9044188      1050            HOUSE               MANSION  3800000.0   \n",
       "9041095      4860            HOUSE                 HOUSE   320000.0   \n",
       "9043036      9600        APARTMENT             APARTMENT   195000.0   \n",
       "9042950      6010        APARTMENT               TRIPLEX   235000.0   \n",
       "9042073      1070        APARTMENT             APARTMENT   320000.0   \n",
       "9042267      7181            HOUSE                 VILLA   325000.0   \n",
       "9042511      5340            HOUSE                 VILLA   569000.0   \n",
       "9034494      1950        APARTMENT             APARTMENT   715000.0   \n",
       "9039019      1050        APARTMENT             APARTMENT  1550000.0   \n",
       "9040949      3271            HOUSE                 HOUSE   230000.0   \n",
       "8997289      1180        APARTMENT           FLAT_STUDIO   224500.0   \n",
       "8949028      4870            HOUSE  EXCEPTIONAL_PROPERTY   349000.0   \n",
       "9039312      9000        APARTMENT             APARTMENT   358000.0   \n",
       "9039311      2060        APARTMENT                  LOFT   360500.0   \n",
       "9039245      1330            HOUSE                 HOUSE   585000.0   \n",
       "9039433      1180        APARTMENT             APARTMENT   780000.0   \n",
       "9038896      4430        APARTMENT             APARTMENT   210000.0   \n",
       "9038897      4430        APARTMENT             APARTMENT   250000.0   \n",
       "9038507      8370        APARTMENT                DUPLEX   199000.0   \n",
       "8929869      1755            HOUSE                 HOUSE   259000.0   \n",
       "9037183      9050        APARTMENT             APARTMENT   265000.0   \n",
       "9037014      1070        APARTMENT             APARTMENT   288000.0   \n",
       "9042688      2845            HOUSE                 HOUSE   320000.0   \n",
       "9042223      4120            HOUSE                 HOUSE   325000.0   \n",
       "9034495      1160        APARTMENT           FLAT_STUDIO   239500.0   \n",
       "9034656      8670        APARTMENT          SERVICE_FLAT   320000.0   \n",
       "9036085      6020            HOUSE                 HOUSE   109900.0   \n",
       "9036417      1080        APARTMENT             APARTMENT   169000.0   \n",
       "9035995      1500        APARTMENT             APARTMENT   198000.0   \n",
       "9035930      1040        APARTMENT             APARTMENT   229000.0   \n",
       "9035945      4682            HOUSE                 HOUSE   237000.0   \n",
       "9041213      6680            HOUSE                 HOUSE   275000.0   \n",
       "9041140      9820            HOUSE                 HOUSE   329000.0   \n",
       "9041379      1755            HOUSE                 HOUSE   360000.0   \n",
       "9041444      8790            HOUSE               MANSION   665000.0   \n",
       "9041443      8790            HOUSE               MANSION   665000.0   \n",
       "9040377      1850            HOUSE                 VILLA   695000.0   \n",
       "9044347      1180            HOUSE            TOWN_HOUSE   680000.0   \n",
       "9044039      1050            HOUSE                 HOUSE  1350000.0   \n",
       "9043919      1050            HOUSE               MANSION  4950000.0   \n",
       "9033767      6001        APARTMENT             APARTMENT   165000.0   \n",
       "9041253      1030        APARTMENT             APARTMENT   197500.0   \n",
       "9033790      6001        APARTMENT             APARTMENT   265000.0   \n",
       "9040974      9700        APARTMENT             APARTMENT   280000.0   \n",
       "9033817      6001        APARTMENT             APARTMENT   320000.0   \n",
       "8829165      8300        APARTMENT             APARTMENT   435000.0   \n",
       "9035334      1190        APARTMENT             APARTMENT   198000.0   \n",
       "9034364      8800        APARTMENT             APARTMENT   235000.0   \n",
       "\n",
       "        type_of_sale  nr_of_rooms    area     equiped_kitchen furnished  \\\n",
       "id                                                                        \n",
       "9044081     FOR_SALE          4.0    90.0           INSTALLED     False   \n",
       "9043978     FOR_SALE          4.0   650.0  USA_HYPER_EQUIPPED     False   \n",
       "9044188     FOR_SALE          5.0   752.0      HYPER_EQUIPPED     False   \n",
       "9041095     FOR_SALE          5.0   231.0       NOT_INSTALLED     False   \n",
       "9043036     FOR_SALE          2.0    75.0           INSTALLED       NaN   \n",
       "9042950     FOR_SALE          3.0   149.0      HYPER_EQUIPPED     False   \n",
       "9042073     FOR_SALE          3.0   130.0  USA_HYPER_EQUIPPED     False   \n",
       "9042267     FOR_SALE          2.0   130.0           INSTALLED     False   \n",
       "9042511     FOR_SALE          6.0   324.0           INSTALLED       NaN   \n",
       "9034494     FOR_SALE          2.0   126.0  USA_HYPER_EQUIPPED     False   \n",
       "9039019     FOR_SALE          3.0   213.0  USA_HYPER_EQUIPPED     False   \n",
       "9040949     FOR_SALE          4.0   226.0           INSTALLED       NaN   \n",
       "8997289     FOR_SALE          1.0    52.0      HYPER_EQUIPPED     False   \n",
       "8949028     FOR_SALE          5.0   350.0      HYPER_EQUIPPED       NaN   \n",
       "9039312     FOR_SALE          2.0    85.0           INSTALLED       NaN   \n",
       "9039311     FOR_SALE          2.0   114.0           INSTALLED       NaN   \n",
       "9039245     FOR_SALE          5.0   187.0       SEMI_EQUIPPED     False   \n",
       "9039433     FOR_SALE          3.0   190.0  USA_HYPER_EQUIPPED     False   \n",
       "9038896     FOR_SALE          2.0    77.0           INSTALLED       NaN   \n",
       "9038897     FOR_SALE          2.0    97.0           INSTALLED       NaN   \n",
       "9038507     FOR_SALE          2.0    87.0           INSTALLED       NaN   \n",
       "8929869     FOR_SALE          3.0   116.0       SEMI_EQUIPPED       NaN   \n",
       "9037183     FOR_SALE          1.0    76.0           INSTALLED     False   \n",
       "9037014     FOR_SALE          2.0    88.0  USA_HYPER_EQUIPPED       NaN   \n",
       "9042688     FOR_SALE          4.0   158.0           INSTALLED     False   \n",
       "9042223     FOR_SALE          3.0   130.0  USA_HYPER_EQUIPPED     False   \n",
       "9034495     FOR_SALE          0.0    46.0  USA_HYPER_EQUIPPED     False   \n",
       "9034656     FOR_SALE          1.0    57.0  USA_HYPER_EQUIPPED     False   \n",
       "9036085     FOR_SALE          2.0   125.0       SEMI_EQUIPPED     False   \n",
       "9036417     FOR_SALE          2.0    70.0       NOT_INSTALLED     False   \n",
       "9035995     FOR_SALE          2.0    87.0       SEMI_EQUIPPED     False   \n",
       "9035930     FOR_SALE          1.0    52.0       USA_INSTALLED      True   \n",
       "9035945     FOR_SALE          3.0   117.0           INSTALLED     False   \n",
       "9041213     FOR_SALE          5.0   237.0           INSTALLED     False   \n",
       "9041140     FOR_SALE          3.0   110.0       SEMI_EQUIPPED       NaN   \n",
       "9041379     FOR_SALE          5.0   347.0       SEMI_EQUIPPED       NaN   \n",
       "9041444     FOR_SALE          4.0   288.0           INSTALLED       NaN   \n",
       "9041443     FOR_SALE          4.0   288.0           INSTALLED       NaN   \n",
       "9040377     FOR_SALE          6.0   241.0      HYPER_EQUIPPED     False   \n",
       "9044347     FOR_SALE          3.0   200.0       USA_INSTALLED     False   \n",
       "9044039     FOR_SALE          5.0   365.0  USA_HYPER_EQUIPPED     False   \n",
       "9043919     FOR_SALE          8.0  1000.0           INSTALLED     False   \n",
       "9033767     FOR_SALE          1.0    64.0      HYPER_EQUIPPED       NaN   \n",
       "9041253     FOR_SALE          1.0    70.0      HYPER_EQUIPPED       NaN   \n",
       "9033790     FOR_SALE          2.0   104.0      HYPER_EQUIPPED     False   \n",
       "9040974     FOR_SALE          3.0   140.0           INSTALLED       NaN   \n",
       "9033817     FOR_SALE          3.0   120.0      HYPER_EQUIPPED       NaN   \n",
       "8829165     FOR_SALE          2.0    85.0  USA_HYPER_EQUIPPED       NaN   \n",
       "9035334     FOR_SALE          1.0    76.0           INSTALLED     False   \n",
       "9034364     FOR_SALE          3.0   141.0           INSTALLED     False   \n",
       "\n",
       "         open_fire terrace  terrace_area garden  garden_area  total_land_area  \\\n",
       "id                                                                              \n",
       "9044081      False    True          13.0    NaN          0.0              0.0   \n",
       "9043978       True    True         400.0    NaN          0.0              0.0   \n",
       "9044188      False    True          40.0   True          0.0            340.0   \n",
       "9041095      False    True          30.0   True       1200.0           1421.0   \n",
       "9043036      False     NaN           NaN    NaN          0.0              0.0   \n",
       "9042950      False    True          15.0    NaN          0.0              0.0   \n",
       "9042073      False    True          14.0    NaN          0.0              0.0   \n",
       "9042267      False    True          30.0   True        600.0           1043.0   \n",
       "9042511      False    True          57.0   True          0.0           2202.0   \n",
       "9034494      False    True           6.0    NaN          0.0              0.0   \n",
       "9039019      False    True          39.0    NaN          0.0              0.0   \n",
       "9040949      False    True          25.0   True        150.0            398.0   \n",
       "8997289       True    True           1.0    NaN          0.0              0.0   \n",
       "8949028       True    True          40.0   True        450.0            700.0   \n",
       "9039312      False    True           1.0    NaN          0.0              0.0   \n",
       "9039311      False    True          25.0    NaN          0.0              0.0   \n",
       "9039245      False    True          74.0    NaN          0.0            483.0   \n",
       "9039433      False    True         135.0    NaN          0.0              0.0   \n",
       "9038896      False    True           5.0    NaN          0.0              0.0   \n",
       "9038897      False    True           5.0    NaN          0.0              0.0   \n",
       "9038507      False    True           NaN    NaN          0.0              0.0   \n",
       "8929869      False    True           NaN    NaN          0.0            810.0   \n",
       "9037183      False    True          10.0   True          0.0              0.0   \n",
       "9037014      False    True           6.0    NaN          0.0              0.0   \n",
       "9042688      False     NaN           NaN   True         43.0            100.0   \n",
       "9042223      False    True          75.0   True        760.0           1031.0   \n",
       "9034495      False    True           9.0    NaN          0.0              0.0   \n",
       "9034656      False    True           NaN    NaN          0.0              0.0   \n",
       "9036085      False    True          10.0    NaN          0.0             80.0   \n",
       "9036417      False    True           2.0    NaN          0.0              0.0   \n",
       "9035995      False    True           8.0    NaN          0.0              0.0   \n",
       "9035930      False    True           4.0    NaN          0.0              0.0   \n",
       "9035945      False    True           NaN   True         40.0            126.0   \n",
       "9041213      False    True           NaN   True       1100.0           1250.0   \n",
       "9041140      False     NaN           NaN    NaN          0.0           5724.0   \n",
       "9041379      False     NaN           NaN    NaN          0.0            460.0   \n",
       "9041444      False    True           NaN   True          0.0            667.0   \n",
       "9041443      False    True           NaN   True          0.0            667.0   \n",
       "9040377      False     NaN           NaN    NaN          0.0            750.0   \n",
       "9044347       True    True          10.0   True         70.0            285.0   \n",
       "9044039      False    True          20.0   True         50.0            145.0   \n",
       "9043919      False    True           NaN    NaN          0.0            310.0   \n",
       "9033767      False     NaN           NaN    NaN          0.0              0.0   \n",
       "9041253       True    True           3.0    NaN          0.0              0.0   \n",
       "9033790      False    True          15.0    NaN          0.0              0.0   \n",
       "9040974      False    True           6.0    NaN          0.0              0.0   \n",
       "9033817      False    True          30.0    NaN          0.0              0.0   \n",
       "8829165      False    True           NaN    NaN          0.0              0.0   \n",
       "9035334      False    True          15.0    NaN          0.0              0.0   \n",
       "9034364      False    True           NaN    NaN          0.0              0.0   \n",
       "\n",
       "         nr_of_facades swimming_pool building_condition  kitchen  \n",
       "id                                                                \n",
       "9044081            4.0           NaN             AS_NEW     True  \n",
       "9043978            3.0           NaN             AS_NEW     True  \n",
       "9044188            2.0           NaN     JUST_RENOVATED     True  \n",
       "9041095            3.0         False             AS_NEW     True  \n",
       "9043036            2.0           NaN               GOOD     True  \n",
       "9042950            2.0         False             AS_NEW     True  \n",
       "9042073            2.0           NaN             AS_NEW     True  \n",
       "9042267            4.0         False      TO_BE_DONE_UP     True  \n",
       "9042511            4.0           NaN     JUST_RENOVATED     True  \n",
       "9034494            2.0         False             AS_NEW     True  \n",
       "9039019            NaN         False             AS_NEW     True  \n",
       "9040949            3.0           NaN        TO_RENOVATE     True  \n",
       "8997289            2.0           NaN               GOOD     True  \n",
       "8949028            3.0           NaN               GOOD     True  \n",
       "9039312            2.0           NaN               GOOD     True  \n",
       "9039311            2.0           NaN               GOOD     True  \n",
       "9039245            3.0         False               GOOD     True  \n",
       "9039433            3.0         False     JUST_RENOVATED     True  \n",
       "9038896            NaN           NaN             AS_NEW     True  \n",
       "9038897            3.0           NaN             AS_NEW     True  \n",
       "9038507            2.0           NaN               GOOD     True  \n",
       "8929869            3.0           NaN      TO_BE_DONE_UP     True  \n",
       "9037183            NaN         False             AS_NEW     True  \n",
       "9037014            2.0           NaN             AS_NEW     True  \n",
       "9042688            2.0         False             AS_NEW     True  \n",
       "9042223            4.0         False               GOOD     True  \n",
       "9034495            NaN         False             AS_NEW     True  \n",
       "9034656            NaN         False             AS_NEW     True  \n",
       "9036085            3.0         False               GOOD     True  \n",
       "9036417            2.0           NaN        TO_RENOVATE     True  \n",
       "9035995            2.0         False               GOOD     True  \n",
       "9035930            2.0         False             AS_NEW     True  \n",
       "9035945            3.0         False               GOOD     True  \n",
       "9041213            4.0         False               GOOD     True  \n",
       "9041140            3.0           NaN      TO_BE_DONE_UP     True  \n",
       "9041379            2.0           NaN        TO_RENOVATE     True  \n",
       "9041444            2.0           NaN               GOOD     True  \n",
       "9041443            2.0           NaN               GOOD     True  \n",
       "9040377            4.0           NaN               GOOD     True  \n",
       "9044347            3.0           NaN               GOOD     True  \n",
       "9044039            2.0           NaN     JUST_RENOVATED     True  \n",
       "9043919            2.0           NaN               GOOD     True  \n",
       "9033767            4.0           NaN             AS_NEW     True  \n",
       "9041253            4.0           NaN     JUST_RENOVATED     True  \n",
       "9033790            4.0           NaN             AS_NEW     True  \n",
       "9040974            3.0           NaN               GOOD     True  \n",
       "9033817            4.0           NaN             AS_NEW     True  \n",
       "8829165            2.0         False               GOOD     True  \n",
       "9035334            2.0         False               GOOD     True  \n",
       "9034364            NaN         False             AS_NEW     True  "
      ],
      "text/html": "<div>\n<style scoped>\n    .dataframe tbody tr th:only-of-type {\n        vertical-align: middle;\n    }\n\n    .dataframe tbody tr th {\n        vertical-align: top;\n    }\n\n    .dataframe thead th {\n        text-align: right;\n    }\n</style>\n<table border=\"1\" class=\"dataframe\">\n  <thead>\n    <tr style=\"text-align: right;\">\n      <th></th>\n      <th>locality</th>\n      <th>type_of_property</th>\n      <th>subtype_of_property</th>\n      <th>price</th>\n      <th>type_of_sale</th>\n      <th>nr_of_rooms</th>\n      <th>area</th>\n      <th>equiped_kitchen</th>\n      <th>furnished</th>\n      <th>open_fire</th>\n      <th>terrace</th>\n      <th>terrace_area</th>\n      <th>garden</th>\n      <th>garden_area</th>\n      <th>total_land_area</th>\n      <th>nr_of_facades</th>\n      <th>swimming_pool</th>\n      <th>building_condition</th>\n      <th>kitchen</th>\n    </tr>\n    <tr>\n      <th>id</th>\n      <th></th>\n      <th></th>\n      <th></th>\n      <th></th>\n      <th></th>\n      <th></th>\n      <th></th>\n      <th></th>\n      <th></th>\n      <th></th>\n      <th></th>\n      <th></th>\n      <th></th>\n      <th></th>\n      <th></th>\n      <th></th>\n      <th></th>\n      <th></th>\n      <th></th>\n    </tr>\n  </thead>\n  <tbody>\n    <tr>\n      <th>9044081</th>\n      <td>1083</td>\n      <td>APARTMENT</td>\n      <td>APARTMENT</td>\n      <td>265000.0</td>\n      <td>FOR_SALE</td>\n      <td>4.0</td>\n      <td>90.0</td>\n      <td>INSTALLED</td>\n      <td>False</td>\n      <td>False</td>\n      <td>True</td>\n      <td>13.0</td>\n      <td>NaN</td>\n      <td>0.0</td>\n      <td>0.0</td>\n      <td>4.0</td>\n      <td>NaN</td>\n      <td>AS_NEW</td>\n      <td>True</td>\n    </tr>\n    <tr>\n      <th>9043978</th>\n      <td>1000</td>\n      <td>APARTMENT</td>\n      <td>APARTMENT</td>\n      <td>1795000.0</td>\n      <td>FOR_SALE</td>\n      <td>4.0</td>\n      <td>650.0</td>\n      <td>USA_HYPER_EQUIPPED</td>\n      <td>False</td>\n      <td>True</td>\n      <td>True</td>\n      <td>400.0</td>\n      <td>NaN</td>\n      <td>0.0</td>\n      <td>0.0</td>\n      <td>3.0</td>\n      <td>NaN</td>\n      <td>AS_NEW</td>\n      <td>True</td>\n    </tr>\n    <tr>\n      <th>9044188</th>\n      <td>1050</td>\n      <td>HOUSE</td>\n      <td>MANSION</td>\n      <td>3800000.0</td>\n      <td>FOR_SALE</td>\n      <td>5.0</td>\n      <td>752.0</td>\n      <td>HYPER_EQUIPPED</td>\n      <td>False</td>\n      <td>False</td>\n      <td>True</td>\n      <td>40.0</td>\n      <td>True</td>\n      <td>0.0</td>\n      <td>340.0</td>\n      <td>2.0</td>\n      <td>NaN</td>\n      <td>JUST_RENOVATED</td>\n      <td>True</td>\n    </tr>\n    <tr>\n      <th>9041095</th>\n      <td>4860</td>\n      <td>HOUSE</td>\n      <td>HOUSE</td>\n      <td>320000.0</td>\n      <td>FOR_SALE</td>\n      <td>5.0</td>\n      <td>231.0</td>\n      <td>NOT_INSTALLED</td>\n      <td>False</td>\n      <td>False</td>\n      <td>True</td>\n      <td>30.0</td>\n      <td>True</td>\n      <td>1200.0</td>\n      <td>1421.0</td>\n      <td>3.0</td>\n      <td>False</td>\n      <td>AS_NEW</td>\n      <td>True</td>\n    </tr>\n    <tr>\n      <th>9043036</th>\n      <td>9600</td>\n      <td>APARTMENT</td>\n      <td>APARTMENT</td>\n      <td>195000.0</td>\n      <td>FOR_SALE</td>\n      <td>2.0</td>\n      <td>75.0</td>\n      <td>INSTALLED</td>\n      <td>NaN</td>\n      <td>False</td>\n      <td>NaN</td>\n      <td>NaN</td>\n      <td>NaN</td>\n      <td>0.0</td>\n      <td>0.0</td>\n      <td>2.0</td>\n      <td>NaN</td>\n      <td>GOOD</td>\n      <td>True</td>\n    </tr>\n    <tr>\n      <th>9042950</th>\n      <td>6010</td>\n      <td>APARTMENT</td>\n      <td>TRIPLEX</td>\n      <td>235000.0</td>\n      <td>FOR_SALE</td>\n      <td>3.0</td>\n      <td>149.0</td>\n      <td>HYPER_EQUIPPED</td>\n      <td>False</td>\n      <td>False</td>\n      <td>True</td>\n      <td>15.0</td>\n      <td>NaN</td>\n      <td>0.0</td>\n      <td>0.0</td>\n      <td>2.0</td>\n      <td>False</td>\n      <td>AS_NEW</td>\n      <td>True</td>\n    </tr>\n    <tr>\n      <th>9042073</th>\n      <td>1070</td>\n      <td>APARTMENT</td>\n      <td>APARTMENT</td>\n      <td>320000.0</td>\n      <td>FOR_SALE</td>\n      <td>3.0</td>\n      <td>130.0</td>\n      <td>USA_HYPER_EQUIPPED</td>\n      <td>False</td>\n      <td>False</td>\n      <td>True</td>\n      <td>14.0</td>\n      <td>NaN</td>\n      <td>0.0</td>\n      <td>0.0</td>\n      <td>2.0</td>\n      <td>NaN</td>\n      <td>AS_NEW</td>\n      <td>True</td>\n    </tr>\n    <tr>\n      <th>9042267</th>\n      <td>7181</td>\n      <td>HOUSE</td>\n      <td>VILLA</td>\n      <td>325000.0</td>\n      <td>FOR_SALE</td>\n      <td>2.0</td>\n      <td>130.0</td>\n      <td>INSTALLED</td>\n      <td>False</td>\n      <td>False</td>\n      <td>True</td>\n      <td>30.0</td>\n      <td>True</td>\n      <td>600.0</td>\n      <td>1043.0</td>\n      <td>4.0</td>\n      <td>False</td>\n      <td>TO_BE_DONE_UP</td>\n      <td>True</td>\n    </tr>\n    <tr>\n      <th>9042511</th>\n      <td>5340</td>\n      <td>HOUSE</td>\n      <td>VILLA</td>\n      <td>569000.0</td>\n      <td>FOR_SALE</td>\n      <td>6.0</td>\n      <td>324.0</td>\n      <td>INSTALLED</td>\n      <td>NaN</td>\n      <td>False</td>\n      <td>True</td>\n      <td>57.0</td>\n      <td>True</td>\n      <td>0.0</td>\n      <td>2202.0</td>\n      <td>4.0</td>\n      <td>NaN</td>\n      <td>JUST_RENOVATED</td>\n      <td>True</td>\n    </tr>\n    <tr>\n      <th>9034494</th>\n      <td>1950</td>\n      <td>APARTMENT</td>\n      <td>APARTMENT</td>\n      <td>715000.0</td>\n      <td>FOR_SALE</td>\n      <td>2.0</td>\n      <td>126.0</td>\n      <td>USA_HYPER_EQUIPPED</td>\n      <td>False</td>\n      <td>False</td>\n      <td>True</td>\n      <td>6.0</td>\n      <td>NaN</td>\n      <td>0.0</td>\n      <td>0.0</td>\n      <td>2.0</td>\n      <td>False</td>\n      <td>AS_NEW</td>\n      <td>True</td>\n    </tr>\n    <tr>\n      <th>9039019</th>\n      <td>1050</td>\n      <td>APARTMENT</td>\n      <td>APARTMENT</td>\n      <td>1550000.0</td>\n      <td>FOR_SALE</td>\n      <td>3.0</td>\n      <td>213.0</td>\n      <td>USA_HYPER_EQUIPPED</td>\n      <td>False</td>\n      <td>False</td>\n      <td>True</td>\n      <td>39.0</td>\n      <td>NaN</td>\n      <td>0.0</td>\n      <td>0.0</td>\n      <td>NaN</td>\n      <td>False</td>\n      <td>AS_NEW</td>\n      <td>True</td>\n    </tr>\n    <tr>\n      <th>9040949</th>\n      <td>3271</td>\n      <td>HOUSE</td>\n      <td>HOUSE</td>\n      <td>230000.0</td>\n      <td>FOR_SALE</td>\n      <td>4.0</td>\n      <td>226.0</td>\n      <td>INSTALLED</td>\n      <td>NaN</td>\n      <td>False</td>\n      <td>True</td>\n      <td>25.0</td>\n      <td>True</td>\n      <td>150.0</td>\n      <td>398.0</td>\n      <td>3.0</td>\n      <td>NaN</td>\n      <td>TO_RENOVATE</td>\n      <td>True</td>\n    </tr>\n    <tr>\n      <th>8997289</th>\n      <td>1180</td>\n      <td>APARTMENT</td>\n      <td>FLAT_STUDIO</td>\n      <td>224500.0</td>\n      <td>FOR_SALE</td>\n      <td>1.0</td>\n      <td>52.0</td>\n      <td>HYPER_EQUIPPED</td>\n      <td>False</td>\n      <td>True</td>\n      <td>True</td>\n      <td>1.0</td>\n      <td>NaN</td>\n      <td>0.0</td>\n      <td>0.0</td>\n      <td>2.0</td>\n      <td>NaN</td>\n      <td>GOOD</td>\n      <td>True</td>\n    </tr>\n    <tr>\n      <th>8949028</th>\n      <td>4870</td>\n      <td>HOUSE</td>\n      <td>EXCEPTIONAL_PROPERTY</td>\n      <td>349000.0</td>\n      <td>FOR_SALE</td>\n      <td>5.0</td>\n      <td>350.0</td>\n      <td>HYPER_EQUIPPED</td>\n      <td>NaN</td>\n      <td>True</td>\n      <td>True</td>\n      <td>40.0</td>\n      <td>True</td>\n      <td>450.0</td>\n      <td>700.0</td>\n      <td>3.0</td>\n      <td>NaN</td>\n      <td>GOOD</td>\n      <td>True</td>\n    </tr>\n    <tr>\n      <th>9039312</th>\n      <td>9000</td>\n      <td>APARTMENT</td>\n      <td>APARTMENT</td>\n      <td>358000.0</td>\n      <td>FOR_SALE</td>\n      <td>2.0</td>\n      <td>85.0</td>\n      <td>INSTALLED</td>\n      <td>NaN</td>\n      <td>False</td>\n      <td>True</td>\n      <td>1.0</td>\n      <td>NaN</td>\n      <td>0.0</td>\n      <td>0.0</td>\n      <td>2.0</td>\n      <td>NaN</td>\n      <td>GOOD</td>\n      <td>True</td>\n    </tr>\n    <tr>\n      <th>9039311</th>\n      <td>2060</td>\n      <td>APARTMENT</td>\n      <td>LOFT</td>\n      <td>360500.0</td>\n      <td>FOR_SALE</td>\n      <td>2.0</td>\n      <td>114.0</td>\n      <td>INSTALLED</td>\n      <td>NaN</td>\n      <td>False</td>\n      <td>True</td>\n      <td>25.0</td>\n      <td>NaN</td>\n      <td>0.0</td>\n      <td>0.0</td>\n      <td>2.0</td>\n      <td>NaN</td>\n      <td>GOOD</td>\n      <td>True</td>\n    </tr>\n    <tr>\n      <th>9039245</th>\n      <td>1330</td>\n      <td>HOUSE</td>\n      <td>HOUSE</td>\n      <td>585000.0</td>\n      <td>FOR_SALE</td>\n      <td>5.0</td>\n      <td>187.0</td>\n      <td>SEMI_EQUIPPED</td>\n      <td>False</td>\n      <td>False</td>\n      <td>True</td>\n      <td>74.0</td>\n      <td>NaN</td>\n      <td>0.0</td>\n      <td>483.0</td>\n      <td>3.0</td>\n      <td>False</td>\n      <td>GOOD</td>\n      <td>True</td>\n    </tr>\n    <tr>\n      <th>9039433</th>\n      <td>1180</td>\n      <td>APARTMENT</td>\n      <td>APARTMENT</td>\n      <td>780000.0</td>\n      <td>FOR_SALE</td>\n      <td>3.0</td>\n      <td>190.0</td>\n      <td>USA_HYPER_EQUIPPED</td>\n      <td>False</td>\n      <td>False</td>\n      <td>True</td>\n      <td>135.0</td>\n      <td>NaN</td>\n      <td>0.0</td>\n      <td>0.0</td>\n      <td>3.0</td>\n      <td>False</td>\n      <td>JUST_RENOVATED</td>\n      <td>True</td>\n    </tr>\n    <tr>\n      <th>9038896</th>\n      <td>4430</td>\n      <td>APARTMENT</td>\n      <td>APARTMENT</td>\n      <td>210000.0</td>\n      <td>FOR_SALE</td>\n      <td>2.0</td>\n      <td>77.0</td>\n      <td>INSTALLED</td>\n      <td>NaN</td>\n      <td>False</td>\n      <td>True</td>\n      <td>5.0</td>\n      <td>NaN</td>\n      <td>0.0</td>\n      <td>0.0</td>\n      <td>NaN</td>\n      <td>NaN</td>\n      <td>AS_NEW</td>\n      <td>True</td>\n    </tr>\n    <tr>\n      <th>9038897</th>\n      <td>4430</td>\n      <td>APARTMENT</td>\n      <td>APARTMENT</td>\n      <td>250000.0</td>\n      <td>FOR_SALE</td>\n      <td>2.0</td>\n      <td>97.0</td>\n      <td>INSTALLED</td>\n      <td>NaN</td>\n      <td>False</td>\n      <td>True</td>\n      <td>5.0</td>\n      <td>NaN</td>\n      <td>0.0</td>\n      <td>0.0</td>\n      <td>3.0</td>\n      <td>NaN</td>\n      <td>AS_NEW</td>\n      <td>True</td>\n    </tr>\n    <tr>\n      <th>9038507</th>\n      <td>8370</td>\n      <td>APARTMENT</td>\n      <td>DUPLEX</td>\n      <td>199000.0</td>\n      <td>FOR_SALE</td>\n      <td>2.0</td>\n      <td>87.0</td>\n      <td>INSTALLED</td>\n      <td>NaN</td>\n      <td>False</td>\n      <td>True</td>\n      <td>NaN</td>\n      <td>NaN</td>\n      <td>0.0</td>\n      <td>0.0</td>\n      <td>2.0</td>\n      <td>NaN</td>\n      <td>GOOD</td>\n      <td>True</td>\n    </tr>\n    <tr>\n      <th>8929869</th>\n      <td>1755</td>\n      <td>HOUSE</td>\n      <td>HOUSE</td>\n      <td>259000.0</td>\n      <td>FOR_SALE</td>\n      <td>3.0</td>\n      <td>116.0</td>\n      <td>SEMI_EQUIPPED</td>\n      <td>NaN</td>\n      <td>False</td>\n      <td>True</td>\n      <td>NaN</td>\n      <td>NaN</td>\n      <td>0.0</td>\n      <td>810.0</td>\n      <td>3.0</td>\n      <td>NaN</td>\n      <td>TO_BE_DONE_UP</td>\n      <td>True</td>\n    </tr>\n    <tr>\n      <th>9037183</th>\n      <td>9050</td>\n      <td>APARTMENT</td>\n      <td>APARTMENT</td>\n      <td>265000.0</td>\n      <td>FOR_SALE</td>\n      <td>1.0</td>\n      <td>76.0</td>\n      <td>INSTALLED</td>\n      <td>False</td>\n      <td>False</td>\n      <td>True</td>\n      <td>10.0</td>\n      <td>True</td>\n      <td>0.0</td>\n      <td>0.0</td>\n      <td>NaN</td>\n      <td>False</td>\n      <td>AS_NEW</td>\n      <td>True</td>\n    </tr>\n    <tr>\n      <th>9037014</th>\n      <td>1070</td>\n      <td>APARTMENT</td>\n      <td>APARTMENT</td>\n      <td>288000.0</td>\n      <td>FOR_SALE</td>\n      <td>2.0</td>\n      <td>88.0</td>\n      <td>USA_HYPER_EQUIPPED</td>\n      <td>NaN</td>\n      <td>False</td>\n      <td>True</td>\n      <td>6.0</td>\n      <td>NaN</td>\n      <td>0.0</td>\n      <td>0.0</td>\n      <td>2.0</td>\n      <td>NaN</td>\n      <td>AS_NEW</td>\n      <td>True</td>\n    </tr>\n    <tr>\n      <th>9042688</th>\n      <td>2845</td>\n      <td>HOUSE</td>\n      <td>HOUSE</td>\n      <td>320000.0</td>\n      <td>FOR_SALE</td>\n      <td>4.0</td>\n      <td>158.0</td>\n      <td>INSTALLED</td>\n      <td>False</td>\n      <td>False</td>\n      <td>NaN</td>\n      <td>NaN</td>\n      <td>True</td>\n      <td>43.0</td>\n      <td>100.0</td>\n      <td>2.0</td>\n      <td>False</td>\n      <td>AS_NEW</td>\n      <td>True</td>\n    </tr>\n    <tr>\n      <th>9042223</th>\n      <td>4120</td>\n      <td>HOUSE</td>\n      <td>HOUSE</td>\n      <td>325000.0</td>\n      <td>FOR_SALE</td>\n      <td>3.0</td>\n      <td>130.0</td>\n      <td>USA_HYPER_EQUIPPED</td>\n      <td>False</td>\n      <td>False</td>\n      <td>True</td>\n      <td>75.0</td>\n      <td>True</td>\n      <td>760.0</td>\n      <td>1031.0</td>\n      <td>4.0</td>\n      <td>False</td>\n      <td>GOOD</td>\n      <td>True</td>\n    </tr>\n    <tr>\n      <th>9034495</th>\n      <td>1160</td>\n      <td>APARTMENT</td>\n      <td>FLAT_STUDIO</td>\n      <td>239500.0</td>\n      <td>FOR_SALE</td>\n      <td>0.0</td>\n      <td>46.0</td>\n      <td>USA_HYPER_EQUIPPED</td>\n      <td>False</td>\n      <td>False</td>\n      <td>True</td>\n      <td>9.0</td>\n      <td>NaN</td>\n      <td>0.0</td>\n      <td>0.0</td>\n      <td>NaN</td>\n      <td>False</td>\n      <td>AS_NEW</td>\n      <td>True</td>\n    </tr>\n    <tr>\n      <th>9034656</th>\n      <td>8670</td>\n      <td>APARTMENT</td>\n      <td>SERVICE_FLAT</td>\n      <td>320000.0</td>\n      <td>FOR_SALE</td>\n      <td>1.0</td>\n      <td>57.0</td>\n      <td>USA_HYPER_EQUIPPED</td>\n      <td>False</td>\n      <td>False</td>\n      <td>True</td>\n      <td>NaN</td>\n      <td>NaN</td>\n      <td>0.0</td>\n      <td>0.0</td>\n      <td>NaN</td>\n      <td>False</td>\n      <td>AS_NEW</td>\n      <td>True</td>\n    </tr>\n    <tr>\n      <th>9036085</th>\n      <td>6020</td>\n      <td>HOUSE</td>\n      <td>HOUSE</td>\n      <td>109900.0</td>\n      <td>FOR_SALE</td>\n      <td>2.0</td>\n      <td>125.0</td>\n      <td>SEMI_EQUIPPED</td>\n      <td>False</td>\n      <td>False</td>\n      <td>True</td>\n      <td>10.0</td>\n      <td>NaN</td>\n      <td>0.0</td>\n      <td>80.0</td>\n      <td>3.0</td>\n      <td>False</td>\n      <td>GOOD</td>\n      <td>True</td>\n    </tr>\n    <tr>\n      <th>9036417</th>\n      <td>1080</td>\n      <td>APARTMENT</td>\n      <td>APARTMENT</td>\n      <td>169000.0</td>\n      <td>FOR_SALE</td>\n      <td>2.0</td>\n      <td>70.0</td>\n      <td>NOT_INSTALLED</td>\n      <td>False</td>\n      <td>False</td>\n      <td>True</td>\n      <td>2.0</td>\n      <td>NaN</td>\n      <td>0.0</td>\n      <td>0.0</td>\n      <td>2.0</td>\n      <td>NaN</td>\n      <td>TO_RENOVATE</td>\n      <td>True</td>\n    </tr>\n    <tr>\n      <th>9035995</th>\n      <td>1500</td>\n      <td>APARTMENT</td>\n      <td>APARTMENT</td>\n      <td>198000.0</td>\n      <td>FOR_SALE</td>\n      <td>2.0</td>\n      <td>87.0</td>\n      <td>SEMI_EQUIPPED</td>\n      <td>False</td>\n      <td>False</td>\n      <td>True</td>\n      <td>8.0</td>\n      <td>NaN</td>\n      <td>0.0</td>\n      <td>0.0</td>\n      <td>2.0</td>\n      <td>False</td>\n      <td>GOOD</td>\n      <td>True</td>\n    </tr>\n    <tr>\n      <th>9035930</th>\n      <td>1040</td>\n      <td>APARTMENT</td>\n      <td>APARTMENT</td>\n      <td>229000.0</td>\n      <td>FOR_SALE</td>\n      <td>1.0</td>\n      <td>52.0</td>\n      <td>USA_INSTALLED</td>\n      <td>True</td>\n      <td>False</td>\n      <td>True</td>\n      <td>4.0</td>\n      <td>NaN</td>\n      <td>0.0</td>\n      <td>0.0</td>\n      <td>2.0</td>\n      <td>False</td>\n      <td>AS_NEW</td>\n      <td>True</td>\n    </tr>\n    <tr>\n      <th>9035945</th>\n      <td>4682</td>\n      <td>HOUSE</td>\n      <td>HOUSE</td>\n      <td>237000.0</td>\n      <td>FOR_SALE</td>\n      <td>3.0</td>\n      <td>117.0</td>\n      <td>INSTALLED</td>\n      <td>False</td>\n      <td>False</td>\n      <td>True</td>\n      <td>NaN</td>\n      <td>True</td>\n      <td>40.0</td>\n      <td>126.0</td>\n      <td>3.0</td>\n      <td>False</td>\n      <td>GOOD</td>\n      <td>True</td>\n    </tr>\n    <tr>\n      <th>9041213</th>\n      <td>6680</td>\n      <td>HOUSE</td>\n      <td>HOUSE</td>\n      <td>275000.0</td>\n      <td>FOR_SALE</td>\n      <td>5.0</td>\n      <td>237.0</td>\n      <td>INSTALLED</td>\n      <td>False</td>\n      <td>False</td>\n      <td>True</td>\n      <td>NaN</td>\n      <td>True</td>\n      <td>1100.0</td>\n      <td>1250.0</td>\n      <td>4.0</td>\n      <td>False</td>\n      <td>GOOD</td>\n      <td>True</td>\n    </tr>\n    <tr>\n      <th>9041140</th>\n      <td>9820</td>\n      <td>HOUSE</td>\n      <td>HOUSE</td>\n      <td>329000.0</td>\n      <td>FOR_SALE</td>\n      <td>3.0</td>\n      <td>110.0</td>\n      <td>SEMI_EQUIPPED</td>\n      <td>NaN</td>\n      <td>False</td>\n      <td>NaN</td>\n      <td>NaN</td>\n      <td>NaN</td>\n      <td>0.0</td>\n      <td>5724.0</td>\n      <td>3.0</td>\n      <td>NaN</td>\n      <td>TO_BE_DONE_UP</td>\n      <td>True</td>\n    </tr>\n    <tr>\n      <th>9041379</th>\n      <td>1755</td>\n      <td>HOUSE</td>\n      <td>HOUSE</td>\n      <td>360000.0</td>\n      <td>FOR_SALE</td>\n      <td>5.0</td>\n      <td>347.0</td>\n      <td>SEMI_EQUIPPED</td>\n      <td>NaN</td>\n      <td>False</td>\n      <td>NaN</td>\n      <td>NaN</td>\n      <td>NaN</td>\n      <td>0.0</td>\n      <td>460.0</td>\n      <td>2.0</td>\n      <td>NaN</td>\n      <td>TO_RENOVATE</td>\n      <td>True</td>\n    </tr>\n    <tr>\n      <th>9041444</th>\n      <td>8790</td>\n      <td>HOUSE</td>\n      <td>MANSION</td>\n      <td>665000.0</td>\n      <td>FOR_SALE</td>\n      <td>4.0</td>\n      <td>288.0</td>\n      <td>INSTALLED</td>\n      <td>NaN</td>\n      <td>False</td>\n      <td>True</td>\n      <td>NaN</td>\n      <td>True</td>\n      <td>0.0</td>\n      <td>667.0</td>\n      <td>2.0</td>\n      <td>NaN</td>\n      <td>GOOD</td>\n      <td>True</td>\n    </tr>\n    <tr>\n      <th>9041443</th>\n      <td>8790</td>\n      <td>HOUSE</td>\n      <td>MANSION</td>\n      <td>665000.0</td>\n      <td>FOR_SALE</td>\n      <td>4.0</td>\n      <td>288.0</td>\n      <td>INSTALLED</td>\n      <td>NaN</td>\n      <td>False</td>\n      <td>True</td>\n      <td>NaN</td>\n      <td>True</td>\n      <td>0.0</td>\n      <td>667.0</td>\n      <td>2.0</td>\n      <td>NaN</td>\n      <td>GOOD</td>\n      <td>True</td>\n    </tr>\n    <tr>\n      <th>9040377</th>\n      <td>1850</td>\n      <td>HOUSE</td>\n      <td>VILLA</td>\n      <td>695000.0</td>\n      <td>FOR_SALE</td>\n      <td>6.0</td>\n      <td>241.0</td>\n      <td>HYPER_EQUIPPED</td>\n      <td>False</td>\n      <td>False</td>\n      <td>NaN</td>\n      <td>NaN</td>\n      <td>NaN</td>\n      <td>0.0</td>\n      <td>750.0</td>\n      <td>4.0</td>\n      <td>NaN</td>\n      <td>GOOD</td>\n      <td>True</td>\n    </tr>\n    <tr>\n      <th>9044347</th>\n      <td>1180</td>\n      <td>HOUSE</td>\n      <td>TOWN_HOUSE</td>\n      <td>680000.0</td>\n      <td>FOR_SALE</td>\n      <td>3.0</td>\n      <td>200.0</td>\n      <td>USA_INSTALLED</td>\n      <td>False</td>\n      <td>True</td>\n      <td>True</td>\n      <td>10.0</td>\n      <td>True</td>\n      <td>70.0</td>\n      <td>285.0</td>\n      <td>3.0</td>\n      <td>NaN</td>\n      <td>GOOD</td>\n      <td>True</td>\n    </tr>\n    <tr>\n      <th>9044039</th>\n      <td>1050</td>\n      <td>HOUSE</td>\n      <td>HOUSE</td>\n      <td>1350000.0</td>\n      <td>FOR_SALE</td>\n      <td>5.0</td>\n      <td>365.0</td>\n      <td>USA_HYPER_EQUIPPED</td>\n      <td>False</td>\n      <td>False</td>\n      <td>True</td>\n      <td>20.0</td>\n      <td>True</td>\n      <td>50.0</td>\n      <td>145.0</td>\n      <td>2.0</td>\n      <td>NaN</td>\n      <td>JUST_RENOVATED</td>\n      <td>True</td>\n    </tr>\n    <tr>\n      <th>9043919</th>\n      <td>1050</td>\n      <td>HOUSE</td>\n      <td>MANSION</td>\n      <td>4950000.0</td>\n      <td>FOR_SALE</td>\n      <td>8.0</td>\n      <td>1000.0</td>\n      <td>INSTALLED</td>\n      <td>False</td>\n      <td>False</td>\n      <td>True</td>\n      <td>NaN</td>\n      <td>NaN</td>\n      <td>0.0</td>\n      <td>310.0</td>\n      <td>2.0</td>\n      <td>NaN</td>\n      <td>GOOD</td>\n      <td>True</td>\n    </tr>\n    <tr>\n      <th>9033767</th>\n      <td>6001</td>\n      <td>APARTMENT</td>\n      <td>APARTMENT</td>\n      <td>165000.0</td>\n      <td>FOR_SALE</td>\n      <td>1.0</td>\n      <td>64.0</td>\n      <td>HYPER_EQUIPPED</td>\n      <td>NaN</td>\n      <td>False</td>\n      <td>NaN</td>\n      <td>NaN</td>\n      <td>NaN</td>\n      <td>0.0</td>\n      <td>0.0</td>\n      <td>4.0</td>\n      <td>NaN</td>\n      <td>AS_NEW</td>\n      <td>True</td>\n    </tr>\n    <tr>\n      <th>9041253</th>\n      <td>1030</td>\n      <td>APARTMENT</td>\n      <td>APARTMENT</td>\n      <td>197500.0</td>\n      <td>FOR_SALE</td>\n      <td>1.0</td>\n      <td>70.0</td>\n      <td>HYPER_EQUIPPED</td>\n      <td>NaN</td>\n      <td>True</td>\n      <td>True</td>\n      <td>3.0</td>\n      <td>NaN</td>\n      <td>0.0</td>\n      <td>0.0</td>\n      <td>4.0</td>\n      <td>NaN</td>\n      <td>JUST_RENOVATED</td>\n      <td>True</td>\n    </tr>\n    <tr>\n      <th>9033790</th>\n      <td>6001</td>\n      <td>APARTMENT</td>\n      <td>APARTMENT</td>\n      <td>265000.0</td>\n      <td>FOR_SALE</td>\n      <td>2.0</td>\n      <td>104.0</td>\n      <td>HYPER_EQUIPPED</td>\n      <td>False</td>\n      <td>False</td>\n      <td>True</td>\n      <td>15.0</td>\n      <td>NaN</td>\n      <td>0.0</td>\n      <td>0.0</td>\n      <td>4.0</td>\n      <td>NaN</td>\n      <td>AS_NEW</td>\n      <td>True</td>\n    </tr>\n    <tr>\n      <th>9040974</th>\n      <td>9700</td>\n      <td>APARTMENT</td>\n      <td>APARTMENT</td>\n      <td>280000.0</td>\n      <td>FOR_SALE</td>\n      <td>3.0</td>\n      <td>140.0</td>\n      <td>INSTALLED</td>\n      <td>NaN</td>\n      <td>False</td>\n      <td>True</td>\n      <td>6.0</td>\n      <td>NaN</td>\n      <td>0.0</td>\n      <td>0.0</td>\n      <td>3.0</td>\n      <td>NaN</td>\n      <td>GOOD</td>\n      <td>True</td>\n    </tr>\n    <tr>\n      <th>9033817</th>\n      <td>6001</td>\n      <td>APARTMENT</td>\n      <td>APARTMENT</td>\n      <td>320000.0</td>\n      <td>FOR_SALE</td>\n      <td>3.0</td>\n      <td>120.0</td>\n      <td>HYPER_EQUIPPED</td>\n      <td>NaN</td>\n      <td>False</td>\n      <td>True</td>\n      <td>30.0</td>\n      <td>NaN</td>\n      <td>0.0</td>\n      <td>0.0</td>\n      <td>4.0</td>\n      <td>NaN</td>\n      <td>AS_NEW</td>\n      <td>True</td>\n    </tr>\n    <tr>\n      <th>8829165</th>\n      <td>8300</td>\n      <td>APARTMENT</td>\n      <td>APARTMENT</td>\n      <td>435000.0</td>\n      <td>FOR_SALE</td>\n      <td>2.0</td>\n      <td>85.0</td>\n      <td>USA_HYPER_EQUIPPED</td>\n      <td>NaN</td>\n      <td>False</td>\n      <td>True</td>\n      <td>NaN</td>\n      <td>NaN</td>\n      <td>0.0</td>\n      <td>0.0</td>\n      <td>2.0</td>\n      <td>False</td>\n      <td>GOOD</td>\n      <td>True</td>\n    </tr>\n    <tr>\n      <th>9035334</th>\n      <td>1190</td>\n      <td>APARTMENT</td>\n      <td>APARTMENT</td>\n      <td>198000.0</td>\n      <td>FOR_SALE</td>\n      <td>1.0</td>\n      <td>76.0</td>\n      <td>INSTALLED</td>\n      <td>False</td>\n      <td>False</td>\n      <td>True</td>\n      <td>15.0</td>\n      <td>NaN</td>\n      <td>0.0</td>\n      <td>0.0</td>\n      <td>2.0</td>\n      <td>False</td>\n      <td>GOOD</td>\n      <td>True</td>\n    </tr>\n    <tr>\n      <th>9034364</th>\n      <td>8800</td>\n      <td>APARTMENT</td>\n      <td>APARTMENT</td>\n      <td>235000.0</td>\n      <td>FOR_SALE</td>\n      <td>3.0</td>\n      <td>141.0</td>\n      <td>INSTALLED</td>\n      <td>False</td>\n      <td>False</td>\n      <td>True</td>\n      <td>NaN</td>\n      <td>NaN</td>\n      <td>0.0</td>\n      <td>0.0</td>\n      <td>NaN</td>\n      <td>False</td>\n      <td>AS_NEW</td>\n      <td>True</td>\n    </tr>\n  </tbody>\n</table>\n</div>"
     },
     "metadata": {},
     "execution_count": 181
    }
   ],
   "source": [
    "data.head(50)"
   ]
  },
  {
   "cell_type": "code",
   "execution_count": null,
   "metadata": {},
   "outputs": [],
   "source": []
  }
 ],
 "metadata": {
  "kernelspec": {
<<<<<<< HEAD
   "name": "python38564bit8154e963c23f49df8b88695a53475965",
   "display_name": "Python 3.8.5 64-bit"
=======
   "display_name": "Python 3",
   "language": "python",
   "name": "python3"
  },
  "language_info": {
   "codemirror_mode": {
    "name": "ipython",
    "version": 3
   },
   "file_extension": ".py",
   "mimetype": "text/x-python",
   "name": "python",
   "nbconvert_exporter": "python",
   "pygments_lexer": "ipython3",
   "version": "3.8.5"
>>>>>>> upstream/main
  }
 },
 "nbformat": 4,
 "nbformat_minor": 4
}